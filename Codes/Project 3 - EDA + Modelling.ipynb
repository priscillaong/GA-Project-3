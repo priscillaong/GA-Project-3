{
 "cells": [
  {
   "cell_type": "markdown",
   "id": "36a7c840",
   "metadata": {},
   "source": [
    "# Content"
   ]
  },
  {
   "cell_type": "markdown",
   "id": "77d48b98",
   "metadata": {},
   "source": [
    "1. Problem Statement<br>\n",
    "2. Background <br>\n",
    "3. Dataset <br>\n",
    "4. Data Dictionary <br>\n",
    "5. Data Cleaning <br>\n",
    "6. EDA <br>\n",
    "7. Model Preprocessing <br>\n",
    "8. Modelling\n",
    "9. Model Evaluation <br>\n",
    "10. Conclusion and Recommendations"
   ]
  },
  {
   "cell_type": "markdown",
   "id": "d3d4b09b",
   "metadata": {},
   "source": [
    "## 1. Problem Statement"
   ]
  },
  {
   "cell_type": "markdown",
   "id": "469392d0",
   "metadata": {},
   "source": [
    "We are a team of Data Analyst at ABC consultancy working together with CHAT to improve their webCHAT email platform for youths to get support for emotional concerns. \n",
    "\n",
    "Based on the emails received from chat@mentalhealth.sg, we want to accurately assign them into \"anxiety\" or \"depression\" category and allow the counsellors to provide them the necessary support and resources.\n",
    "\n",
    "This project aims to:<br>\n",
    "(i) Use the reviews from Reddit for r/Anxiety and r/depression and apply Naive Bayes, K-Nearest Neighbors and Logistic Regression modelling to predict if they fall under the anxiety or depression subreddit.<br>\n",
    "(ii) Find out the words commonly used by both subreddits."
   ]
  },
  {
   "cell_type": "markdown",
   "id": "c9dc36a9",
   "metadata": {},
   "source": [
    "## 2. Background"
   ]
  },
  {
   "cell_type": "markdown",
   "id": "c07b2889",
   "metadata": {},
   "source": [
    "Due to COVID-19, it resulted in a large group of Singaporeans experiencing anxiety or depression - 1 in 3 adults anxious, depressed. Younger adults, aged 35 and under, were more likely to experience psychological distress than those over the age of 35 due to their greater access to COVID-19 information through the media ([*source*](https://www.duke-nus.edu.sg/allnews/covid-19-1-in-3-adults-anxious-depressed)).\n",
    "\n",
    "CHAT is the Centre of Excellence for Youth Mental Health in Singapore, which have been helping and supporting young people with mental health concerns since 2009. CHAT runs a national youth mental health outreach and assessment service for youth and young adults aged 16 to 30 ([*source*](https://www.imh.com.sg/CHAT/Pages/default.aspx)).\n",
    "\n",
    "Young adults in Singaporeans who have experienced psychological distress due to COVID-19 may seek platforms such as CHAT to receive support. Improvements made to CHAT's webCHAT email platform would accurately identify if the subject was experiencing anxiety or depression and allow for counsellors to provide the necessary support and resources to these youths."
   ]
  },
  {
   "cell_type": "markdown",
   "id": "a8ff515a",
   "metadata": {},
   "source": [
    "## 3. Dataset"
   ]
  },
  {
   "cell_type": "markdown",
   "id": "9f84cb8e",
   "metadata": {},
   "source": [
    "1. anxiety.csv: Includes the title and description of 3079 post on r/Anxiety <br>\n",
    "2. depression.csv: Includes the title and description of 3073 post on r/depression"
   ]
  },
  {
   "cell_type": "markdown",
   "id": "c9933315",
   "metadata": {},
   "source": [
    "## 4. Data Dictionary"
   ]
  },
  {
   "cell_type": "markdown",
   "id": "c219e821",
   "metadata": {},
   "source": [
    "|Feature|Type|Dataset|Description|\n",
    "|---|---|---|---|\n",
    "|subreddit|object|anxiety.csv/depression.csv|Type of Subreddit|\n",
    "|title|object|anxiety.csv/depression.csv|Title of Post|\n",
    "|selftext|object|anxiety.csv/depression.csv|Description of Post|"
   ]
  },
  {
   "cell_type": "markdown",
   "id": "dd61d84d",
   "metadata": {},
   "source": [
    "## 5. Data Cleaning"
   ]
  },
  {
   "cell_type": "code",
   "execution_count": 1,
   "id": "a09d818b",
   "metadata": {},
   "outputs": [],
   "source": [
    "#Import Libraries\n",
    "\n",
    "import pandas as pd\n",
    "import numpy as np\n",
    "import string\n",
    "import re\n",
    "import nltk\n",
    "import matplotlib.pyplot as plt\n",
    "import seaborn as sns\n",
    "\n",
    "from sklearn.feature_extraction.text import CountVectorizer\n",
    "from sklearn.feature_extraction.text import TfidfVectorizer\n",
    "from sklearn.model_selection import train_test_split, cross_val_score\n",
    "from sklearn.preprocessing import StandardScaler\n",
    "from sklearn.metrics import accuracy_score, classification_report, confusion_matrix, recall_score, precision_score, f1_score, plot_roc_curve, roc_auc_score \n",
    "from sklearn.model_selection import GridSearchCV\n",
    "\n",
    "from sklearn.naive_bayes import BernoulliNB\n",
    "from sklearn.naive_bayes import GaussianNB\n",
    "from sklearn.naive_bayes import MultinomialNB\n",
    "from sklearn.neighbors import KNeighborsClassifier\n",
    "from sklearn.linear_model import LogisticRegression\n",
    "\n",
    "# Ignore warnings\n",
    "import warnings\n",
    "warnings.filterwarnings(\"ignore\")\n",
    "\n",
    "#Load files\n",
    "anxiety_df = pd.read_csv('../Dataset/anxiety.csv')\n",
    "depression_df = pd.read_csv('../Dataset/depression.csv')"
   ]
  },
  {
   "cell_type": "markdown",
   "id": "21fa14e2",
   "metadata": {},
   "source": [
    "### (i) Anxiety Dataset"
   ]
  },
  {
   "cell_type": "markdown",
   "id": "bf675a2e",
   "metadata": {},
   "source": [
    "Take a look at the columns "
   ]
  },
  {
   "cell_type": "code",
   "execution_count": 2,
   "id": "a984fe2a",
   "metadata": {},
   "outputs": [
    {
     "name": "stdout",
     "output_type": "stream",
     "text": [
      "<class 'pandas.core.frame.DataFrame'>\n",
      "RangeIndex: 3079 entries, 0 to 3078\n",
      "Data columns (total 3 columns):\n",
      " #   Column     Non-Null Count  Dtype \n",
      "---  ------     --------------  ----- \n",
      " 0   subreddit  3079 non-null   object\n",
      " 1   title      3079 non-null   object\n",
      " 2   selftext   2935 non-null   object\n",
      "dtypes: object(3)\n",
      "memory usage: 72.3+ KB\n"
     ]
    }
   ],
   "source": [
    "anxiety_df.info()"
   ]
  },
  {
   "cell_type": "markdown",
   "id": "314a9962",
   "metadata": {},
   "source": [
    "Identify columns with null values"
   ]
  },
  {
   "cell_type": "code",
   "execution_count": 3,
   "id": "628bf956",
   "metadata": {},
   "outputs": [
    {
     "data": {
      "text/plain": [
       "subreddit      0\n",
       "title          0\n",
       "selftext     144\n",
       "dtype: int64"
      ]
     },
     "execution_count": 3,
     "metadata": {},
     "output_type": "execute_result"
    }
   ],
   "source": [
    "#selftext has null values but not title\n",
    "\n",
    "anxiety_df.isnull().sum()"
   ]
  },
  {
   "cell_type": "markdown",
   "id": "3c514799",
   "metadata": {},
   "source": [
    "In our analysis, we shall merge both columns together"
   ]
  },
  {
   "cell_type": "code",
   "execution_count": 4,
   "id": "4e2af7da",
   "metadata": {},
   "outputs": [],
   "source": [
    "#if there is both title and selftext, merge both columns together\n",
    "anxiety_df['title_selftext'] = anxiety_df ['title'] + ' ' + anxiety_df['selftext']\n",
    "\n",
    "#if there is empty selftext columns, to take only the title column\n",
    "anxiety_df['title_selftext'] = anxiety_df['title_selftext'].fillna(anxiety_df['title'])"
   ]
  },
  {
   "cell_type": "markdown",
   "id": "6d66d829",
   "metadata": {},
   "source": [
    "Take a look at merge column - title_selftext"
   ]
  },
  {
   "cell_type": "code",
   "execution_count": 57,
   "id": "c75598a4",
   "metadata": {},
   "outputs": [
    {
     "data": {
      "text/html": [
       "<div>\n",
       "<style scoped>\n",
       "    .dataframe tbody tr th:only-of-type {\n",
       "        vertical-align: middle;\n",
       "    }\n",
       "\n",
       "    .dataframe tbody tr th {\n",
       "        vertical-align: top;\n",
       "    }\n",
       "\n",
       "    .dataframe thead th {\n",
       "        text-align: right;\n",
       "    }\n",
       "</style>\n",
       "<table border=\"1\" class=\"dataframe\">\n",
       "  <thead>\n",
       "    <tr style=\"text-align: right;\">\n",
       "      <th></th>\n",
       "      <th>subreddit</th>\n",
       "      <th>title</th>\n",
       "      <th>selftext</th>\n",
       "      <th>title_selftext</th>\n",
       "    </tr>\n",
       "  </thead>\n",
       "  <tbody>\n",
       "    <tr>\n",
       "      <th>0</th>\n",
       "      <td>Anxiety</td>\n",
       "      <td>My ex friend said me having anxiety is abusive...</td>\n",
       "      <td>Um hi i’m new to the sub and hoped someone cou...</td>\n",
       "      <td>My ex friend said me having anxiety is abusive...</td>\n",
       "    </tr>\n",
       "    <tr>\n",
       "      <th>1</th>\n",
       "      <td>Anxiety</td>\n",
       "      <td>Just wanted to share</td>\n",
       "      <td>Hey everyone , so my anxiety has been up to\\na...</td>\n",
       "      <td>Just wanted to share Hey everyone , so my anxi...</td>\n",
       "    </tr>\n",
       "    <tr>\n",
       "      <th>2</th>\n",
       "      <td>Anxiety</td>\n",
       "      <td>Anxious about polygraph at work</td>\n",
       "      <td>\\n\\nI managed to get out of my old, toxic jo...</td>\n",
       "      <td>Anxious about polygraph at work   \\n\\nI manage...</td>\n",
       "    </tr>\n",
       "    <tr>\n",
       "      <th>3</th>\n",
       "      <td>Anxiety</td>\n",
       "      <td>DAE get waves of vertigo even when sitting or ...</td>\n",
       "      <td>Vertigo has been one of my main symptoms of an...</td>\n",
       "      <td>DAE get waves of vertigo even when sitting or ...</td>\n",
       "    </tr>\n",
       "    <tr>\n",
       "      <th>4</th>\n",
       "      <td>Anxiety</td>\n",
       "      <td>Is there someone that I can talk to right now?</td>\n",
       "      <td>Just really need to talk to someone</td>\n",
       "      <td>Is there someone that I can talk to right now?...</td>\n",
       "    </tr>\n",
       "  </tbody>\n",
       "</table>\n",
       "</div>"
      ],
      "text/plain": [
       "  subreddit                                              title  \\\n",
       "0   Anxiety  My ex friend said me having anxiety is abusive...   \n",
       "1   Anxiety                               Just wanted to share   \n",
       "2   Anxiety                    Anxious about polygraph at work   \n",
       "3   Anxiety  DAE get waves of vertigo even when sitting or ...   \n",
       "4   Anxiety     Is there someone that I can talk to right now?   \n",
       "\n",
       "                                            selftext  \\\n",
       "0  Um hi i’m new to the sub and hoped someone cou...   \n",
       "1  Hey everyone , so my anxiety has been up to\\na...   \n",
       "2    \\n\\nI managed to get out of my old, toxic jo...   \n",
       "3  Vertigo has been one of my main symptoms of an...   \n",
       "4                Just really need to talk to someone   \n",
       "\n",
       "                                      title_selftext  \n",
       "0  My ex friend said me having anxiety is abusive...  \n",
       "1  Just wanted to share Hey everyone , so my anxi...  \n",
       "2  Anxious about polygraph at work   \\n\\nI manage...  \n",
       "3  DAE get waves of vertigo even when sitting or ...  \n",
       "4  Is there someone that I can talk to right now?...  "
      ]
     },
     "execution_count": 57,
     "metadata": {},
     "output_type": "execute_result"
    }
   ],
   "source": [
    "anxiety_df.head()"
   ]
  },
  {
   "cell_type": "markdown",
   "id": "95c04504",
   "metadata": {},
   "source": [
    "Generate a new df with only the title_selftext column"
   ]
  },
  {
   "cell_type": "code",
   "execution_count": 5,
   "id": "fa8f3fc2",
   "metadata": {},
   "outputs": [],
   "source": [
    "anxiety_clean_df = anxiety_df.drop(columns = ['title', 'selftext'])"
   ]
  },
  {
   "cell_type": "markdown",
   "id": "1817b1b6",
   "metadata": {},
   "source": [
    "Post in reddit may contain [removed] or [deleted]. We want to remove these words in our analysis."
   ]
  },
  {
   "cell_type": "code",
   "execution_count": 6,
   "id": "a79e9656",
   "metadata": {},
   "outputs": [],
   "source": [
    "anxiety_clean_df[\"title_selftext\"] = anxiety_clean_df[\"title_selftext\"].apply(lambda x: x.replace(\"[removed]\", \" \"))\n",
    "anxiety_clean_df[\"title_selftext\"] = anxiety_clean_df[\"title_selftext\"].apply(lambda x: x.replace(\"[deleted]\", \" \"))"
   ]
  },
  {
   "cell_type": "markdown",
   "id": "5680f668",
   "metadata": {},
   "source": [
    "Take a look at the first 5 entries of the new df"
   ]
  },
  {
   "cell_type": "code",
   "execution_count": 7,
   "id": "392c9aee",
   "metadata": {},
   "outputs": [
    {
     "data": {
      "text/html": [
       "<div>\n",
       "<style scoped>\n",
       "    .dataframe tbody tr th:only-of-type {\n",
       "        vertical-align: middle;\n",
       "    }\n",
       "\n",
       "    .dataframe tbody tr th {\n",
       "        vertical-align: top;\n",
       "    }\n",
       "\n",
       "    .dataframe thead th {\n",
       "        text-align: right;\n",
       "    }\n",
       "</style>\n",
       "<table border=\"1\" class=\"dataframe\">\n",
       "  <thead>\n",
       "    <tr style=\"text-align: right;\">\n",
       "      <th></th>\n",
       "      <th>subreddit</th>\n",
       "      <th>title_selftext</th>\n",
       "    </tr>\n",
       "  </thead>\n",
       "  <tbody>\n",
       "    <tr>\n",
       "      <th>0</th>\n",
       "      <td>Anxiety</td>\n",
       "      <td>My ex friend said me having anxiety is abusive...</td>\n",
       "    </tr>\n",
       "    <tr>\n",
       "      <th>1</th>\n",
       "      <td>Anxiety</td>\n",
       "      <td>Just wanted to share Hey everyone , so my anxi...</td>\n",
       "    </tr>\n",
       "    <tr>\n",
       "      <th>2</th>\n",
       "      <td>Anxiety</td>\n",
       "      <td>Anxious about polygraph at work   \\n\\nI manage...</td>\n",
       "    </tr>\n",
       "    <tr>\n",
       "      <th>3</th>\n",
       "      <td>Anxiety</td>\n",
       "      <td>DAE get waves of vertigo even when sitting or ...</td>\n",
       "    </tr>\n",
       "    <tr>\n",
       "      <th>4</th>\n",
       "      <td>Anxiety</td>\n",
       "      <td>Is there someone that I can talk to right now?...</td>\n",
       "    </tr>\n",
       "  </tbody>\n",
       "</table>\n",
       "</div>"
      ],
      "text/plain": [
       "  subreddit                                     title_selftext\n",
       "0   Anxiety  My ex friend said me having anxiety is abusive...\n",
       "1   Anxiety  Just wanted to share Hey everyone , so my anxi...\n",
       "2   Anxiety  Anxious about polygraph at work   \\n\\nI manage...\n",
       "3   Anxiety  DAE get waves of vertigo even when sitting or ...\n",
       "4   Anxiety  Is there someone that I can talk to right now?..."
      ]
     },
     "execution_count": 7,
     "metadata": {},
     "output_type": "execute_result"
    }
   ],
   "source": [
    "anxiety_clean_df.head()"
   ]
  },
  {
   "cell_type": "markdown",
   "id": "5ef039d1",
   "metadata": {},
   "source": [
    "### (ii) Depression Dataset"
   ]
  },
  {
   "cell_type": "markdown",
   "id": "c9b8f1e7",
   "metadata": {},
   "source": [
    "Take a look at the columns"
   ]
  },
  {
   "cell_type": "code",
   "execution_count": 8,
   "id": "42d98324",
   "metadata": {},
   "outputs": [
    {
     "name": "stdout",
     "output_type": "stream",
     "text": [
      "<class 'pandas.core.frame.DataFrame'>\n",
      "RangeIndex: 3073 entries, 0 to 3072\n",
      "Data columns (total 3 columns):\n",
      " #   Column     Non-Null Count  Dtype \n",
      "---  ------     --------------  ----- \n",
      " 0   subreddit  3073 non-null   object\n",
      " 1   title      3073 non-null   object\n",
      " 2   selftext   3046 non-null   object\n",
      "dtypes: object(3)\n",
      "memory usage: 72.1+ KB\n"
     ]
    }
   ],
   "source": [
    "depression_df.info()"
   ]
  },
  {
   "cell_type": "markdown",
   "id": "ebf8b266",
   "metadata": {},
   "source": [
    "Identify columns with null values"
   ]
  },
  {
   "cell_type": "code",
   "execution_count": 9,
   "id": "4f832c93",
   "metadata": {},
   "outputs": [
    {
     "data": {
      "text/plain": [
       "subreddit     0\n",
       "title         0\n",
       "selftext     27\n",
       "dtype: int64"
      ]
     },
     "execution_count": 9,
     "metadata": {},
     "output_type": "execute_result"
    }
   ],
   "source": [
    "#selftext has null values but not title\n",
    "\n",
    "depression_df.isnull().sum()"
   ]
  },
  {
   "cell_type": "markdown",
   "id": "328a82a8",
   "metadata": {},
   "source": [
    "In our analysis, we shall merge both columns together"
   ]
  },
  {
   "cell_type": "code",
   "execution_count": 10,
   "id": "e09a8e70",
   "metadata": {},
   "outputs": [],
   "source": [
    "#if there is both title and selftext, merge both columns together\n",
    "depression_df['title_selftext'] = depression_df ['title'] + ' ' + depression_df['selftext']\n",
    "\n",
    "#if there is empty selftext columns, to take only the title column\n",
    "depression_df['title_selftext'] = depression_df['title_selftext'].fillna(depression_df['title'])"
   ]
  },
  {
   "cell_type": "markdown",
   "id": "b612aae0",
   "metadata": {},
   "source": [
    "Take a look at merge column - title_selftext"
   ]
  },
  {
   "cell_type": "code",
   "execution_count": 11,
   "id": "2e708aa2",
   "metadata": {},
   "outputs": [
    {
     "data": {
      "text/html": [
       "<div>\n",
       "<style scoped>\n",
       "    .dataframe tbody tr th:only-of-type {\n",
       "        vertical-align: middle;\n",
       "    }\n",
       "\n",
       "    .dataframe tbody tr th {\n",
       "        vertical-align: top;\n",
       "    }\n",
       "\n",
       "    .dataframe thead th {\n",
       "        text-align: right;\n",
       "    }\n",
       "</style>\n",
       "<table border=\"1\" class=\"dataframe\">\n",
       "  <thead>\n",
       "    <tr style=\"text-align: right;\">\n",
       "      <th></th>\n",
       "      <th>subreddit</th>\n",
       "      <th>title</th>\n",
       "      <th>selftext</th>\n",
       "      <th>title_selftext</th>\n",
       "    </tr>\n",
       "  </thead>\n",
       "  <tbody>\n",
       "    <tr>\n",
       "      <th>0</th>\n",
       "      <td>depression</td>\n",
       "      <td>Does therapy help</td>\n",
       "      <td>Just wondering if therapy even does anything b...</td>\n",
       "      <td>Does therapy help Just wondering if therapy ev...</td>\n",
       "    </tr>\n",
       "    <tr>\n",
       "      <th>1</th>\n",
       "      <td>depression</td>\n",
       "      <td>How do I stop the cycle?</td>\n",
       "      <td>I have been super depressed for about 4 years ...</td>\n",
       "      <td>How do I stop the cycle? I have been super dep...</td>\n",
       "    </tr>\n",
       "    <tr>\n",
       "      <th>2</th>\n",
       "      <td>depression</td>\n",
       "      <td>Confused and lost</td>\n",
       "      <td>Is it just me or does anyone else feel more an...</td>\n",
       "      <td>Confused and lost Is it just me or does anyone...</td>\n",
       "    </tr>\n",
       "    <tr>\n",
       "      <th>3</th>\n",
       "      <td>depression</td>\n",
       "      <td>I'm giving up. last therapy appointment today</td>\n",
       "      <td>Its 330 am. Its been 2 years of \"therapy\". 3 y...</td>\n",
       "      <td>I'm giving up. last therapy appointment today ...</td>\n",
       "    </tr>\n",
       "    <tr>\n",
       "      <th>4</th>\n",
       "      <td>depression</td>\n",
       "      <td>negative butterflys</td>\n",
       "      <td>[removed]</td>\n",
       "      <td>negative butterflys [removed]</td>\n",
       "    </tr>\n",
       "  </tbody>\n",
       "</table>\n",
       "</div>"
      ],
      "text/plain": [
       "    subreddit                                          title  \\\n",
       "0  depression                              Does therapy help   \n",
       "1  depression                       How do I stop the cycle?   \n",
       "2  depression                              Confused and lost   \n",
       "3  depression  I'm giving up. last therapy appointment today   \n",
       "4  depression                            negative butterflys   \n",
       "\n",
       "                                            selftext  \\\n",
       "0  Just wondering if therapy even does anything b...   \n",
       "1  I have been super depressed for about 4 years ...   \n",
       "2  Is it just me or does anyone else feel more an...   \n",
       "3  Its 330 am. Its been 2 years of \"therapy\". 3 y...   \n",
       "4                                          [removed]   \n",
       "\n",
       "                                      title_selftext  \n",
       "0  Does therapy help Just wondering if therapy ev...  \n",
       "1  How do I stop the cycle? I have been super dep...  \n",
       "2  Confused and lost Is it just me or does anyone...  \n",
       "3  I'm giving up. last therapy appointment today ...  \n",
       "4                      negative butterflys [removed]  "
      ]
     },
     "execution_count": 11,
     "metadata": {},
     "output_type": "execute_result"
    }
   ],
   "source": [
    "depression_df.head()"
   ]
  },
  {
   "cell_type": "markdown",
   "id": "e2f8a0aa",
   "metadata": {},
   "source": [
    "Generate a new df with only the title_selftext column"
   ]
  },
  {
   "cell_type": "code",
   "execution_count": 12,
   "id": "60a74ba7",
   "metadata": {},
   "outputs": [],
   "source": [
    "depression_clean_df = depression_df.drop(columns = ['title', 'selftext'])"
   ]
  },
  {
   "cell_type": "markdown",
   "id": "b1bbe53e",
   "metadata": {},
   "source": [
    "Post in reddit may contain [removed] or [deleted]. We want to remove these words in our analysis."
   ]
  },
  {
   "cell_type": "code",
   "execution_count": 13,
   "id": "eceb2bdc",
   "metadata": {},
   "outputs": [],
   "source": [
    "depression_clean_df[\"title_selftext\"] = depression_clean_df[\"title_selftext\"].apply(lambda x: x.replace(\"[removed]\", \" \"))\n",
    "depression_clean_df[\"title_selftext\"] = depression_clean_df[\"title_selftext\"].apply(lambda x: x.replace(\"[deleted]\", \" \"))"
   ]
  },
  {
   "cell_type": "markdown",
   "id": "3e13e54a",
   "metadata": {},
   "source": [
    "Take a look at the first 5 entries of the new df"
   ]
  },
  {
   "cell_type": "code",
   "execution_count": 14,
   "id": "fe2ce46f",
   "metadata": {},
   "outputs": [
    {
     "data": {
      "text/html": [
       "<div>\n",
       "<style scoped>\n",
       "    .dataframe tbody tr th:only-of-type {\n",
       "        vertical-align: middle;\n",
       "    }\n",
       "\n",
       "    .dataframe tbody tr th {\n",
       "        vertical-align: top;\n",
       "    }\n",
       "\n",
       "    .dataframe thead th {\n",
       "        text-align: right;\n",
       "    }\n",
       "</style>\n",
       "<table border=\"1\" class=\"dataframe\">\n",
       "  <thead>\n",
       "    <tr style=\"text-align: right;\">\n",
       "      <th></th>\n",
       "      <th>subreddit</th>\n",
       "      <th>title_selftext</th>\n",
       "    </tr>\n",
       "  </thead>\n",
       "  <tbody>\n",
       "    <tr>\n",
       "      <th>0</th>\n",
       "      <td>depression</td>\n",
       "      <td>Does therapy help Just wondering if therapy ev...</td>\n",
       "    </tr>\n",
       "    <tr>\n",
       "      <th>1</th>\n",
       "      <td>depression</td>\n",
       "      <td>How do I stop the cycle? I have been super dep...</td>\n",
       "    </tr>\n",
       "    <tr>\n",
       "      <th>2</th>\n",
       "      <td>depression</td>\n",
       "      <td>Confused and lost Is it just me or does anyone...</td>\n",
       "    </tr>\n",
       "    <tr>\n",
       "      <th>3</th>\n",
       "      <td>depression</td>\n",
       "      <td>I'm giving up. last therapy appointment today ...</td>\n",
       "    </tr>\n",
       "    <tr>\n",
       "      <th>4</th>\n",
       "      <td>depression</td>\n",
       "      <td>negative butterflys</td>\n",
       "    </tr>\n",
       "  </tbody>\n",
       "</table>\n",
       "</div>"
      ],
      "text/plain": [
       "    subreddit                                     title_selftext\n",
       "0  depression  Does therapy help Just wondering if therapy ev...\n",
       "1  depression  How do I stop the cycle? I have been super dep...\n",
       "2  depression  Confused and lost Is it just me or does anyone...\n",
       "3  depression  I'm giving up. last therapy appointment today ...\n",
       "4  depression                              negative butterflys  "
      ]
     },
     "execution_count": 14,
     "metadata": {},
     "output_type": "execute_result"
    }
   ],
   "source": [
    "depression_clean_df.head()"
   ]
  },
  {
   "cell_type": "markdown",
   "id": "9c6511cb",
   "metadata": {},
   "source": [
    "### (iii) Merging of Dataframes"
   ]
  },
  {
   "cell_type": "code",
   "execution_count": 15,
   "id": "8c150f99",
   "metadata": {},
   "outputs": [],
   "source": [
    "df_merge = pd.merge(anxiety_clean_df, depression_clean_df, how='outer')"
   ]
  },
  {
   "cell_type": "code",
   "execution_count": 16,
   "id": "1d05fe2e",
   "metadata": {},
   "outputs": [
    {
     "data": {
      "text/html": [
       "<div>\n",
       "<style scoped>\n",
       "    .dataframe tbody tr th:only-of-type {\n",
       "        vertical-align: middle;\n",
       "    }\n",
       "\n",
       "    .dataframe tbody tr th {\n",
       "        vertical-align: top;\n",
       "    }\n",
       "\n",
       "    .dataframe thead th {\n",
       "        text-align: right;\n",
       "    }\n",
       "</style>\n",
       "<table border=\"1\" class=\"dataframe\">\n",
       "  <thead>\n",
       "    <tr style=\"text-align: right;\">\n",
       "      <th></th>\n",
       "      <th>subreddit</th>\n",
       "      <th>title_selftext</th>\n",
       "    </tr>\n",
       "  </thead>\n",
       "  <tbody>\n",
       "    <tr>\n",
       "      <th>0</th>\n",
       "      <td>Anxiety</td>\n",
       "      <td>My ex friend said me having anxiety is abusive...</td>\n",
       "    </tr>\n",
       "    <tr>\n",
       "      <th>1</th>\n",
       "      <td>Anxiety</td>\n",
       "      <td>Just wanted to share Hey everyone , so my anxi...</td>\n",
       "    </tr>\n",
       "    <tr>\n",
       "      <th>2</th>\n",
       "      <td>Anxiety</td>\n",
       "      <td>Anxious about polygraph at work   \\n\\nI manage...</td>\n",
       "    </tr>\n",
       "    <tr>\n",
       "      <th>3</th>\n",
       "      <td>Anxiety</td>\n",
       "      <td>DAE get waves of vertigo even when sitting or ...</td>\n",
       "    </tr>\n",
       "    <tr>\n",
       "      <th>4</th>\n",
       "      <td>Anxiety</td>\n",
       "      <td>Is there someone that I can talk to right now?...</td>\n",
       "    </tr>\n",
       "    <tr>\n",
       "      <th>...</th>\n",
       "      <td>...</td>\n",
       "      <td>...</td>\n",
       "    </tr>\n",
       "    <tr>\n",
       "      <th>6147</th>\n",
       "      <td>depression</td>\n",
       "      <td>How can i help my My friend how is plannig sui...</td>\n",
       "    </tr>\n",
       "    <tr>\n",
       "      <th>6148</th>\n",
       "      <td>depression</td>\n",
       "      <td>if you have depression</td>\n",
       "    </tr>\n",
       "    <tr>\n",
       "      <th>6149</th>\n",
       "      <td>depression</td>\n",
       "      <td>A message I sent to someone. Thought I'd get s...</td>\n",
       "    </tr>\n",
       "    <tr>\n",
       "      <th>6150</th>\n",
       "      <td>depression</td>\n",
       "      <td>Why am I still here? It's been just over 4 mon...</td>\n",
       "    </tr>\n",
       "    <tr>\n",
       "      <th>6151</th>\n",
       "      <td>depression</td>\n",
       "      <td>COVID-19 THERAPY. Leave a comment and let's ta...</td>\n",
       "    </tr>\n",
       "  </tbody>\n",
       "</table>\n",
       "<p>6152 rows × 2 columns</p>\n",
       "</div>"
      ],
      "text/plain": [
       "       subreddit                                     title_selftext\n",
       "0        Anxiety  My ex friend said me having anxiety is abusive...\n",
       "1        Anxiety  Just wanted to share Hey everyone , so my anxi...\n",
       "2        Anxiety  Anxious about polygraph at work   \\n\\nI manage...\n",
       "3        Anxiety  DAE get waves of vertigo even when sitting or ...\n",
       "4        Anxiety  Is there someone that I can talk to right now?...\n",
       "...          ...                                                ...\n",
       "6147  depression  How can i help my My friend how is plannig sui...\n",
       "6148  depression                           if you have depression  \n",
       "6149  depression  A message I sent to someone. Thought I'd get s...\n",
       "6150  depression  Why am I still here? It's been just over 4 mon...\n",
       "6151  depression  COVID-19 THERAPY. Leave a comment and let's ta...\n",
       "\n",
       "[6152 rows x 2 columns]"
      ]
     },
     "execution_count": 16,
     "metadata": {},
     "output_type": "execute_result"
    }
   ],
   "source": [
    "#take a look at the combined clean df\n",
    "#anxiety csv has 3079 submissions\n",
    "#depression csv has 3073 submissions\n",
    "#total submission: 6152\n",
    "\n",
    "df_merge"
   ]
  },
  {
   "cell_type": "markdown",
   "id": "ebb020e2",
   "metadata": {},
   "source": [
    "## 6. EDA"
   ]
  },
  {
   "cell_type": "code",
   "execution_count": 17,
   "id": "57ed85b5",
   "metadata": {},
   "outputs": [],
   "source": [
    "# Create function to remove punctuation, tokenize, remove stopwords, and lemmatize\n",
    "\n",
    "def clean_text(text):\n",
    "    \n",
    "    #define wn and stopword\n",
    "    wn = nltk.WordNetLemmatizer()\n",
    "    stopword = nltk.corpus.stopwords.words('english')\n",
    "    \n",
    "    # store character only if it is not a punctuation\n",
    "    text = \"\".join([word.lower() for word in text if word not in string.punctuation])\n",
    "    \n",
    "    # \\W matches any non-word character (equivalent to [^a-zA-Z0-9_]). This does not include spaces i.e. \\s\n",
    "    # Add a + just in case there are 2 or more spaces between certain words\n",
    "    tokens = re.split('\\W+', text)\n",
    "    \n",
    "    # apply lemmatization and stopwords exclusion within the same step\n",
    "    text = \" \".join([wn.lemmatize(word) for word in tokens if word not in stopword])\n",
    "    \n",
    "    #remove numbers and word with numbers\n",
    "    text = \"\".join([re.sub('\\d+', \"\", word) for word in text])\n",
    "    \n",
    "    #remove words which are not in english\n",
    "    text = \"\".join([word for word in text if word.isascii() == True])\n",
    "    \n",
    "    #remove ''\n",
    "    text = \"\".join([word for word in text if word != ''])\n",
    "    \n",
    "    return text"
   ]
  },
  {
   "cell_type": "code",
   "execution_count": 18,
   "id": "3030c4e4",
   "metadata": {},
   "outputs": [],
   "source": [
    "#create function to gen shape after count vectorizer and plot top 20 words/2-words/3-words\n",
    "\n",
    "def count_vectorizer (y, z, n):\n",
    "    # Create an instance of CountVectorizer\n",
    "    count_vect = CountVectorizer(ngram_range=(n, n))\n",
    "\n",
    "    # X_counts stores the vectorized version of the data\n",
    "    y['clean_title_selftext'] = y['title_selftext'].apply(lambda x: clean_text(x))\n",
    "    X_counts = count_vect.fit_transform(y['clean_title_selftext'])\n",
    "\n",
    "    # Returns the number of rows and columns of X_counts\n",
    "    print(f'(number of rows, number of unique words/phrases): {X_counts.shape}')\n",
    "\n",
    "    # Due to the nature of sparse matrices where only non-zero elements are stored, \n",
    "    # we would need to expand it out to a collection of arrays and then store it in a data frame\n",
    "    X_counts_df = pd.DataFrame(X_counts.toarray())\n",
    "\n",
    "    #get features name over df\n",
    "    X_counts_df.columns = count_vect.get_feature_names()\n",
    "    \n",
    "    #get sum of each column\n",
    "    X_counts_df = X_counts_df.sum()\n",
    "    \n",
    "    #sort values\n",
    "    X_counts_df.sort_values(ascending = False, inplace = True)\n",
    "    \n",
    "    #put into a df\n",
    "    X_counts_df = X_counts_df.iloc[:20].to_frame()\n",
    "\n",
    "    # Plot the top 20 words for the subreddit in a bar chart\n",
    "    X_counts_bar = X_counts_df.plot(kind = 'bar', figsize = (12,8), fontsize = 10)\n",
    "\n",
    "    # Set the title, x & y labels and remove legend\n",
    "    X_counts_bar.set_title(z + ' Subreddit Top 20 Unique Words/Phrases', fontsize=15)\n",
    "    X_counts_bar.get_legend().remove()\n",
    "    X_counts_bar.set_ylabel('Words', fontsize=10)\n",
    "    X_counts_bar.set_xlabel('Count', fontsize=10)\n",
    "    plt.xticks(rotation=45);"
   ]
  },
  {
   "cell_type": "markdown",
   "id": "4b363b16",
   "metadata": {},
   "source": [
    "### Top 20 word/phrases in Anxiety subreddit"
   ]
  },
  {
   "cell_type": "code",
   "execution_count": 19,
   "id": "a76ff2bc",
   "metadata": {},
   "outputs": [
    {
     "name": "stdout",
     "output_type": "stream",
     "text": [
      "(number of rows, number of unique words/phrases): (3079, 12919)\n"
     ]
    },
    {
     "data": {
      "image/png": "[encoded data removed]",
      "text/plain": [
       "<Figure size 864x576 with 1 Axes>"
      ]
     },
     "metadata": {
      "needs_background": "light"
     },
     "output_type": "display_data"
    }
   ],
   "source": [
    "#top 20 words\n",
    "\n",
    "count_vectorizer (anxiety_clean_df, \"Anxiety\", 1)"
   ]
  },
  {
   "cell_type": "markdown",
   "id": "890f0a8f",
   "metadata": {},
   "source": [
    "Words like 'anxiety' shows that people who are anxious often are aware of what and how they are feeling. The top 20 words list contains common words such as 'feel' and 'feeling' since anxious is a type of feeling. The word 'help' could perhaps show that the subject recognises that they need help. Couple of time-based words such as 'time', 'day' and 'year' could probably mean that the subject is experiencing such feelings for a period of time."
   ]
  },
  {
   "cell_type": "code",
   "execution_count": 20,
   "id": "b23620c3",
   "metadata": {},
   "outputs": [
    {
     "name": "stdout",
     "output_type": "stream",
     "text": [
      "(number of rows, number of unique words/phrases): (3079, 146251)\n"
     ]
    },
    {
     "data": {
      "image/png": "[encoded data removed]",
      "text/plain": [
       "<Figure size 864x576 with 1 Axes>"
      ]
     },
     "metadata": {
      "needs_background": "light"
     },
     "output_type": "display_data"
    }
   ],
   "source": [
    "#top 20 2-word phrases\n",
    "\n",
    "count_vectorizer (anxiety_clean_df, \"Anxiety\", 2)"
   ]
  },
  {
   "cell_type": "markdown",
   "id": "c77e9be3",
   "metadata": {},
   "source": [
    "Phrases like \"panic attack\", \"anxiety attack\" and \"social anxiety\" are associated with anxiety. Similarly, there are a couple of time-based phrases such as \"year ago\", \"every time\" and \"every day\"."
   ]
  },
  {
   "cell_type": "code",
   "execution_count": 21,
   "id": "01f97002",
   "metadata": {},
   "outputs": [
    {
     "name": "stdout",
     "output_type": "stream",
     "text": [
      "(number of rows, number of unique words/phrases): (3079, 209747)\n"
     ]
    },
    {
     "data": {
      "image/png": "[encoded data removed]",
      "text/plain": [
       "<Figure size 864x576 with 1 Axes>"
      ]
     },
     "metadata": {
      "needs_background": "light"
     },
     "output_type": "display_data"
    }
   ],
   "source": [
    "#top 20 3-word phrases\n",
    "\n",
    "count_vectorizer (anxiety_clean_df, \"Anxiety\", 3)"
   ]
  },
  {
   "cell_type": "markdown",
   "id": "98283219",
   "metadata": {},
   "source": [
    "Couple of anxiety related phrases such as \"anxiety panic attack\", \"really bad anxiety\" shows that people are fairly aware of signs of anxiety. There are also certain phrases used by subjects such as \"anyone else get\", \"anyone else feel\", \"anyone else experienced\" to obtain validation from others. Another common word seen here is \"gtpopit\". Upon further investigation, pop it is a type of fidget toy, which could be a common toy owned by people who are anxious."
   ]
  },
  {
   "cell_type": "markdown",
   "id": "c740edab",
   "metadata": {},
   "source": [
    "### Top 20 word/phrases in Depression subreddit"
   ]
  },
  {
   "cell_type": "code",
   "execution_count": 22,
   "id": "efd3c0db",
   "metadata": {},
   "outputs": [
    {
     "name": "stdout",
     "output_type": "stream",
     "text": [
      "(number of rows, number of unique words/phrases): (3073, 11972)\n"
     ]
    },
    {
     "data": {
      "image/png": "[encoded data removed]",
      "text/plain": [
       "<Figure size 864x576 with 1 Axes>"
      ]
     },
     "metadata": {
      "needs_background": "light"
     },
     "output_type": "display_data"
    }
   ],
   "source": [
    "#top 20 words\n",
    "\n",
    "count_vectorizer (depression_clean_df, \"Depression\", 1)"
   ]
  },
  {
   "cell_type": "markdown",
   "id": "e5b2fca5",
   "metadata": {},
   "source": [
    "Words like \"life\" shows people with depression comtemplates about life. The word \"depression\" is also in the list of top 20 words. However, the number of times depression appears is lower than the number of times anxiety appears in their own subreddits. It is likely that subjects who may be suffering from depression do not talk about it so explicitly in their reddit posts."
   ]
  },
  {
   "cell_type": "code",
   "execution_count": 23,
   "id": "44363345",
   "metadata": {},
   "outputs": [
    {
     "name": "stdout",
     "output_type": "stream",
     "text": [
      "(number of rows, number of unique words/phrases): (3073, 131517)\n"
     ]
    },
    {
     "data": {
      "image/png": "[encoded data removed]",
      "text/plain": [
       "<Figure size 864x576 with 1 Axes>"
      ]
     },
     "metadata": {
      "needs_background": "light"
     },
     "output_type": "display_data"
    }
   ],
   "source": [
    "#top 20 2-word phrases\n",
    "\n",
    "count_vectorizer (depression_clean_df, \"Depression\", 2)"
   ]
  },
  {
   "cell_type": "markdown",
   "id": "371745be",
   "metadata": {},
   "source": [
    "Based on the words like \"get better\" and \"wish could\", it shows that people who are suffering from depression would like to feel normal. However, this is not seen in anxiety likely because depression requires a longer term treatment and intervention. Similar time-based phrases can be seen here such as \"every day\", \"year ago\" and \"last year\" to signify the frequency and duration of the illness. Phrases like \"im tired\" and \"want die\" shows the impact of depression to the subject in which they feel more strongly than subjects experiencing anxiety."
   ]
  },
  {
   "cell_type": "code",
   "execution_count": 24,
   "id": "86ec771a",
   "metadata": {},
   "outputs": [
    {
     "name": "stdout",
     "output_type": "stream",
     "text": [
      "(number of rows, number of unique words/phrases): (3073, 189936)\n"
     ]
    },
    {
     "data": {
      "image/png": "[encoded data removed]",
      "text/plain": [
       "<Figure size 864x576 with 1 Axes>"
      ]
     },
     "metadata": {
      "needs_background": "light"
     },
     "output_type": "display_data"
    }
   ],
   "source": [
    "#top 20 3-word phrases\n",
    "\n",
    "count_vectorizer (depression_clean_df, \"Depression\", 3)"
   ]
  },
  {
   "cell_type": "markdown",
   "id": "23668354",
   "metadata": {},
   "source": [
    "Repeated \"die\" words can be seen in these phrases which are unlike those in the anxiety subreddits. In general there are also a lot more phrases containing the word \"feel\", \"better\" and \"dont\"."
   ]
  },
  {
   "cell_type": "markdown",
   "id": "1773a53a",
   "metadata": {},
   "source": [
    "### Top 20 2-word phrases in Merge subreddit"
   ]
  },
  {
   "cell_type": "code",
   "execution_count": 25,
   "id": "e5781eaf",
   "metadata": {},
   "outputs": [
    {
     "name": "stdout",
     "output_type": "stream",
     "text": [
      "(number of rows, number of unique words/phrases): (6152, 249554)\n"
     ]
    },
    {
     "data": {
      "image/png": "[encoded data removed]",
      "text/plain": [
       "<Figure size 864x576 with 1 Axes>"
      ]
     },
     "metadata": {
      "needs_background": "light"
     },
     "output_type": "display_data"
    }
   ],
   "source": [
    "#top 20 2-word phrases\n",
    "\n",
    "count_vectorizer (df_merge, \"Merge\", 2)"
   ]
  },
  {
   "cell_type": "markdown",
   "id": "be987cea",
   "metadata": {},
   "source": [
    "Words such are \"feel like\", \"dont know\", \"anyone else\", \"dont want\" and \"mental health\" can be seen repeated in both subreddits."
   ]
  },
  {
   "cell_type": "markdown",
   "id": "f102d11f",
   "metadata": {},
   "source": [
    "## 7. Model Preprocessing"
   ]
  },
  {
   "cell_type": "markdown",
   "id": "d9e4db43",
   "metadata": {},
   "source": [
    "### Vectorizing Raw Data: TF-IDF"
   ]
  },
  {
   "cell_type": "markdown",
   "id": "5ade61da",
   "metadata": {},
   "source": [
    "Since both anxiety and depression are psychological conditions with the usuage of fairly similar words in the reddit posts, we will use TF-IDF vectorization (together with bigrams) in our models."
   ]
  },
  {
   "cell_type": "code",
   "execution_count": 26,
   "id": "a362707a",
   "metadata": {},
   "outputs": [],
   "source": [
    "#clean the title_selftext column for the df_merge df and rename as clean_title_selftext\n",
    "\n",
    "df_merge['clean_title_selftext'] = df_merge['title_selftext'].apply(lambda x: clean_text(x))"
   ]
  },
  {
   "cell_type": "markdown",
   "id": "5516b514",
   "metadata": {},
   "source": [
    "### TF-IDF vectorization"
   ]
  },
  {
   "cell_type": "code",
   "execution_count": 27,
   "id": "09799aa6",
   "metadata": {},
   "outputs": [
    {
     "name": "stdout",
     "output_type": "stream",
     "text": [
      "(6152, 17892)\n"
     ]
    },
    {
     "data": {
      "text/html": [
       "<div>\n",
       "<style scoped>\n",
       "    .dataframe tbody tr th:only-of-type {\n",
       "        vertical-align: middle;\n",
       "    }\n",
       "\n",
       "    .dataframe tbody tr th {\n",
       "        vertical-align: top;\n",
       "    }\n",
       "\n",
       "    .dataframe thead th {\n",
       "        text-align: right;\n",
       "    }\n",
       "</style>\n",
       "<table border=\"1\" class=\"dataframe\">\n",
       "  <thead>\n",
       "    <tr style=\"text-align: right;\">\n",
       "      <th></th>\n",
       "      <th>aa</th>\n",
       "      <th>aaa</th>\n",
       "      <th>aaaa</th>\n",
       "      <th>aaaaa</th>\n",
       "      <th>aaaaaaaaaaaaaaaaaaaaaaaaaaaaaaaaaaaaaaaaaaaaaaaaaaaaaaaaaaaaaaaaa</th>\n",
       "      <th>aaaahhhaa</th>\n",
       "      <th>aalis</th>\n",
       "      <th>aampe</th>\n",
       "      <th>aana</th>\n",
       "      <th>aati</th>\n",
       "      <th>...</th>\n",
       "      <th>zombie</th>\n",
       "      <th>zone</th>\n",
       "      <th>zoned</th>\n",
       "      <th>zoning</th>\n",
       "      <th>zonked</th>\n",
       "      <th>zoo</th>\n",
       "      <th>zoom</th>\n",
       "      <th>zooming</th>\n",
       "      <th>zosert</th>\n",
       "      <th>zyrtec</th>\n",
       "    </tr>\n",
       "  </thead>\n",
       "  <tbody>\n",
       "    <tr>\n",
       "      <th>0</th>\n",
       "      <td>0.0</td>\n",
       "      <td>0.0</td>\n",
       "      <td>0.0</td>\n",
       "      <td>0.0</td>\n",
       "      <td>0.0</td>\n",
       "      <td>0.0</td>\n",
       "      <td>0.0</td>\n",
       "      <td>0.0</td>\n",
       "      <td>0.0</td>\n",
       "      <td>0.0</td>\n",
       "      <td>...</td>\n",
       "      <td>0.0</td>\n",
       "      <td>0.0</td>\n",
       "      <td>0.0</td>\n",
       "      <td>0.0</td>\n",
       "      <td>0.0</td>\n",
       "      <td>0.0</td>\n",
       "      <td>0.0</td>\n",
       "      <td>0.0</td>\n",
       "      <td>0.0</td>\n",
       "      <td>0.0</td>\n",
       "    </tr>\n",
       "    <tr>\n",
       "      <th>1</th>\n",
       "      <td>0.0</td>\n",
       "      <td>0.0</td>\n",
       "      <td>0.0</td>\n",
       "      <td>0.0</td>\n",
       "      <td>0.0</td>\n",
       "      <td>0.0</td>\n",
       "      <td>0.0</td>\n",
       "      <td>0.0</td>\n",
       "      <td>0.0</td>\n",
       "      <td>0.0</td>\n",
       "      <td>...</td>\n",
       "      <td>0.0</td>\n",
       "      <td>0.0</td>\n",
       "      <td>0.0</td>\n",
       "      <td>0.0</td>\n",
       "      <td>0.0</td>\n",
       "      <td>0.0</td>\n",
       "      <td>0.0</td>\n",
       "      <td>0.0</td>\n",
       "      <td>0.0</td>\n",
       "      <td>0.0</td>\n",
       "    </tr>\n",
       "    <tr>\n",
       "      <th>2</th>\n",
       "      <td>0.0</td>\n",
       "      <td>0.0</td>\n",
       "      <td>0.0</td>\n",
       "      <td>0.0</td>\n",
       "      <td>0.0</td>\n",
       "      <td>0.0</td>\n",
       "      <td>0.0</td>\n",
       "      <td>0.0</td>\n",
       "      <td>0.0</td>\n",
       "      <td>0.0</td>\n",
       "      <td>...</td>\n",
       "      <td>0.0</td>\n",
       "      <td>0.0</td>\n",
       "      <td>0.0</td>\n",
       "      <td>0.0</td>\n",
       "      <td>0.0</td>\n",
       "      <td>0.0</td>\n",
       "      <td>0.0</td>\n",
       "      <td>0.0</td>\n",
       "      <td>0.0</td>\n",
       "      <td>0.0</td>\n",
       "    </tr>\n",
       "    <tr>\n",
       "      <th>3</th>\n",
       "      <td>0.0</td>\n",
       "      <td>0.0</td>\n",
       "      <td>0.0</td>\n",
       "      <td>0.0</td>\n",
       "      <td>0.0</td>\n",
       "      <td>0.0</td>\n",
       "      <td>0.0</td>\n",
       "      <td>0.0</td>\n",
       "      <td>0.0</td>\n",
       "      <td>0.0</td>\n",
       "      <td>...</td>\n",
       "      <td>0.0</td>\n",
       "      <td>0.0</td>\n",
       "      <td>0.0</td>\n",
       "      <td>0.0</td>\n",
       "      <td>0.0</td>\n",
       "      <td>0.0</td>\n",
       "      <td>0.0</td>\n",
       "      <td>0.0</td>\n",
       "      <td>0.0</td>\n",
       "      <td>0.0</td>\n",
       "    </tr>\n",
       "    <tr>\n",
       "      <th>4</th>\n",
       "      <td>0.0</td>\n",
       "      <td>0.0</td>\n",
       "      <td>0.0</td>\n",
       "      <td>0.0</td>\n",
       "      <td>0.0</td>\n",
       "      <td>0.0</td>\n",
       "      <td>0.0</td>\n",
       "      <td>0.0</td>\n",
       "      <td>0.0</td>\n",
       "      <td>0.0</td>\n",
       "      <td>...</td>\n",
       "      <td>0.0</td>\n",
       "      <td>0.0</td>\n",
       "      <td>0.0</td>\n",
       "      <td>0.0</td>\n",
       "      <td>0.0</td>\n",
       "      <td>0.0</td>\n",
       "      <td>0.0</td>\n",
       "      <td>0.0</td>\n",
       "      <td>0.0</td>\n",
       "      <td>0.0</td>\n",
       "    </tr>\n",
       "    <tr>\n",
       "      <th>...</th>\n",
       "      <td>...</td>\n",
       "      <td>...</td>\n",
       "      <td>...</td>\n",
       "      <td>...</td>\n",
       "      <td>...</td>\n",
       "      <td>...</td>\n",
       "      <td>...</td>\n",
       "      <td>...</td>\n",
       "      <td>...</td>\n",
       "      <td>...</td>\n",
       "      <td>...</td>\n",
       "      <td>...</td>\n",
       "      <td>...</td>\n",
       "      <td>...</td>\n",
       "      <td>...</td>\n",
       "      <td>...</td>\n",
       "      <td>...</td>\n",
       "      <td>...</td>\n",
       "      <td>...</td>\n",
       "      <td>...</td>\n",
       "      <td>...</td>\n",
       "    </tr>\n",
       "    <tr>\n",
       "      <th>6147</th>\n",
       "      <td>0.0</td>\n",
       "      <td>0.0</td>\n",
       "      <td>0.0</td>\n",
       "      <td>0.0</td>\n",
       "      <td>0.0</td>\n",
       "      <td>0.0</td>\n",
       "      <td>0.0</td>\n",
       "      <td>0.0</td>\n",
       "      <td>0.0</td>\n",
       "      <td>0.0</td>\n",
       "      <td>...</td>\n",
       "      <td>0.0</td>\n",
       "      <td>0.0</td>\n",
       "      <td>0.0</td>\n",
       "      <td>0.0</td>\n",
       "      <td>0.0</td>\n",
       "      <td>0.0</td>\n",
       "      <td>0.0</td>\n",
       "      <td>0.0</td>\n",
       "      <td>0.0</td>\n",
       "      <td>0.0</td>\n",
       "    </tr>\n",
       "    <tr>\n",
       "      <th>6148</th>\n",
       "      <td>0.0</td>\n",
       "      <td>0.0</td>\n",
       "      <td>0.0</td>\n",
       "      <td>0.0</td>\n",
       "      <td>0.0</td>\n",
       "      <td>0.0</td>\n",
       "      <td>0.0</td>\n",
       "      <td>0.0</td>\n",
       "      <td>0.0</td>\n",
       "      <td>0.0</td>\n",
       "      <td>...</td>\n",
       "      <td>0.0</td>\n",
       "      <td>0.0</td>\n",
       "      <td>0.0</td>\n",
       "      <td>0.0</td>\n",
       "      <td>0.0</td>\n",
       "      <td>0.0</td>\n",
       "      <td>0.0</td>\n",
       "      <td>0.0</td>\n",
       "      <td>0.0</td>\n",
       "      <td>0.0</td>\n",
       "    </tr>\n",
       "    <tr>\n",
       "      <th>6149</th>\n",
       "      <td>0.0</td>\n",
       "      <td>0.0</td>\n",
       "      <td>0.0</td>\n",
       "      <td>0.0</td>\n",
       "      <td>0.0</td>\n",
       "      <td>0.0</td>\n",
       "      <td>0.0</td>\n",
       "      <td>0.0</td>\n",
       "      <td>0.0</td>\n",
       "      <td>0.0</td>\n",
       "      <td>...</td>\n",
       "      <td>0.0</td>\n",
       "      <td>0.0</td>\n",
       "      <td>0.0</td>\n",
       "      <td>0.0</td>\n",
       "      <td>0.0</td>\n",
       "      <td>0.0</td>\n",
       "      <td>0.0</td>\n",
       "      <td>0.0</td>\n",
       "      <td>0.0</td>\n",
       "      <td>0.0</td>\n",
       "    </tr>\n",
       "    <tr>\n",
       "      <th>6150</th>\n",
       "      <td>0.0</td>\n",
       "      <td>0.0</td>\n",
       "      <td>0.0</td>\n",
       "      <td>0.0</td>\n",
       "      <td>0.0</td>\n",
       "      <td>0.0</td>\n",
       "      <td>0.0</td>\n",
       "      <td>0.0</td>\n",
       "      <td>0.0</td>\n",
       "      <td>0.0</td>\n",
       "      <td>...</td>\n",
       "      <td>0.0</td>\n",
       "      <td>0.0</td>\n",
       "      <td>0.0</td>\n",
       "      <td>0.0</td>\n",
       "      <td>0.0</td>\n",
       "      <td>0.0</td>\n",
       "      <td>0.0</td>\n",
       "      <td>0.0</td>\n",
       "      <td>0.0</td>\n",
       "      <td>0.0</td>\n",
       "    </tr>\n",
       "    <tr>\n",
       "      <th>6151</th>\n",
       "      <td>0.0</td>\n",
       "      <td>0.0</td>\n",
       "      <td>0.0</td>\n",
       "      <td>0.0</td>\n",
       "      <td>0.0</td>\n",
       "      <td>0.0</td>\n",
       "      <td>0.0</td>\n",
       "      <td>0.0</td>\n",
       "      <td>0.0</td>\n",
       "      <td>0.0</td>\n",
       "      <td>...</td>\n",
       "      <td>0.0</td>\n",
       "      <td>0.0</td>\n",
       "      <td>0.0</td>\n",
       "      <td>0.0</td>\n",
       "      <td>0.0</td>\n",
       "      <td>0.0</td>\n",
       "      <td>0.0</td>\n",
       "      <td>0.0</td>\n",
       "      <td>0.0</td>\n",
       "      <td>0.0</td>\n",
       "    </tr>\n",
       "  </tbody>\n",
       "</table>\n",
       "<p>6152 rows × 17892 columns</p>\n",
       "</div>"
      ],
      "text/plain": [
       "       aa  aaa  aaaa  aaaaa  \\\n",
       "0     0.0  0.0   0.0    0.0   \n",
       "1     0.0  0.0   0.0    0.0   \n",
       "2     0.0  0.0   0.0    0.0   \n",
       "3     0.0  0.0   0.0    0.0   \n",
       "4     0.0  0.0   0.0    0.0   \n",
       "...   ...  ...   ...    ...   \n",
       "6147  0.0  0.0   0.0    0.0   \n",
       "6148  0.0  0.0   0.0    0.0   \n",
       "6149  0.0  0.0   0.0    0.0   \n",
       "6150  0.0  0.0   0.0    0.0   \n",
       "6151  0.0  0.0   0.0    0.0   \n",
       "\n",
       "      aaaaaaaaaaaaaaaaaaaaaaaaaaaaaaaaaaaaaaaaaaaaaaaaaaaaaaaaaaaaaaaaa  \\\n",
       "0                                                   0.0                   \n",
       "1                                                   0.0                   \n",
       "2                                                   0.0                   \n",
       "3                                                   0.0                   \n",
       "4                                                   0.0                   \n",
       "...                                                 ...                   \n",
       "6147                                                0.0                   \n",
       "6148                                                0.0                   \n",
       "6149                                                0.0                   \n",
       "6150                                                0.0                   \n",
       "6151                                                0.0                   \n",
       "\n",
       "      aaaahhhaa  aalis  aampe  aana  aati  ...  zombie  zone  zoned  zoning  \\\n",
       "0           0.0    0.0    0.0   0.0   0.0  ...     0.0   0.0    0.0     0.0   \n",
       "1           0.0    0.0    0.0   0.0   0.0  ...     0.0   0.0    0.0     0.0   \n",
       "2           0.0    0.0    0.0   0.0   0.0  ...     0.0   0.0    0.0     0.0   \n",
       "3           0.0    0.0    0.0   0.0   0.0  ...     0.0   0.0    0.0     0.0   \n",
       "4           0.0    0.0    0.0   0.0   0.0  ...     0.0   0.0    0.0     0.0   \n",
       "...         ...    ...    ...   ...   ...  ...     ...   ...    ...     ...   \n",
       "6147        0.0    0.0    0.0   0.0   0.0  ...     0.0   0.0    0.0     0.0   \n",
       "6148        0.0    0.0    0.0   0.0   0.0  ...     0.0   0.0    0.0     0.0   \n",
       "6149        0.0    0.0    0.0   0.0   0.0  ...     0.0   0.0    0.0     0.0   \n",
       "6150        0.0    0.0    0.0   0.0   0.0  ...     0.0   0.0    0.0     0.0   \n",
       "6151        0.0    0.0    0.0   0.0   0.0  ...     0.0   0.0    0.0     0.0   \n",
       "\n",
       "      zonked  zoo  zoom  zooming  zosert  zyrtec  \n",
       "0        0.0  0.0   0.0      0.0     0.0     0.0  \n",
       "1        0.0  0.0   0.0      0.0     0.0     0.0  \n",
       "2        0.0  0.0   0.0      0.0     0.0     0.0  \n",
       "3        0.0  0.0   0.0      0.0     0.0     0.0  \n",
       "4        0.0  0.0   0.0      0.0     0.0     0.0  \n",
       "...      ...  ...   ...      ...     ...     ...  \n",
       "6147     0.0  0.0   0.0      0.0     0.0     0.0  \n",
       "6148     0.0  0.0   0.0      0.0     0.0     0.0  \n",
       "6149     0.0  0.0   0.0      0.0     0.0     0.0  \n",
       "6150     0.0  0.0   0.0      0.0     0.0     0.0  \n",
       "6151     0.0  0.0   0.0      0.0     0.0     0.0  \n",
       "\n",
       "[6152 rows x 17892 columns]"
      ]
     },
     "execution_count": 27,
     "metadata": {},
     "output_type": "execute_result"
    }
   ],
   "source": [
    "tfidf_vect = TfidfVectorizer()\n",
    "X_tfidf_1 = tfidf_vect.fit_transform(df_merge['clean_title_selftext'])\n",
    "\n",
    "#take a look at the shape of the df\n",
    "print(X_tfidf_1.shape)\n",
    "\n",
    "X_tfidf_1_df = pd.DataFrame(X_tfidf_1.toarray())\n",
    "X_tfidf_1_df.columns = tfidf_vect.get_feature_names()\n",
    "X_tfidf_1_df"
   ]
  },
  {
   "cell_type": "markdown",
   "id": "13430d56",
   "metadata": {},
   "source": [
    "### TF-IDF vectorization with bigram"
   ]
  },
  {
   "cell_type": "code",
   "execution_count": 28,
   "id": "60ec9582",
   "metadata": {},
   "outputs": [
    {
     "name": "stdout",
     "output_type": "stream",
     "text": [
      "(6152, 249554)\n"
     ]
    },
    {
     "data": {
      "text/html": [
       "<div>\n",
       "<style scoped>\n",
       "    .dataframe tbody tr th:only-of-type {\n",
       "        vertical-align: middle;\n",
       "    }\n",
       "\n",
       "    .dataframe tbody tr th {\n",
       "        vertical-align: top;\n",
       "    }\n",
       "\n",
       "    .dataframe thead th {\n",
       "        text-align: right;\n",
       "    }\n",
       "</style>\n",
       "<table border=\"1\" class=\"dataframe\">\n",
       "  <thead>\n",
       "    <tr style=\"text-align: right;\">\n",
       "      <th></th>\n",
       "      <th>aa cant</th>\n",
       "      <th>aa meeting</th>\n",
       "      <th>aaa phone</th>\n",
       "      <th>aaa six</th>\n",
       "      <th>aaaa fucking</th>\n",
       "      <th>aaaaa aaaaaaaaaaaaaaaaaaaaaaaaaaaaaaaaaaaaaaaaaaaaaaaaaaaaaaaaaaaaaaaaa</th>\n",
       "      <th>aaaaaaaaaaaaaaaaaaaaaaaaaaaaaaaaaaaaaaaaaaaaaaaaaaaaaaaaaaaaaaaaa want</th>\n",
       "      <th>aaaahhhaa female</th>\n",
       "      <th>aalis sayang</th>\n",
       "      <th>aampe day</th>\n",
       "      <th>...</th>\n",
       "      <th>zoom spend</th>\n",
       "      <th>zoom started</th>\n",
       "      <th>zoom talk</th>\n",
       "      <th>zoom teach</th>\n",
       "      <th>zoom therapy</th>\n",
       "      <th>zoom triggered</th>\n",
       "      <th>zooming thinking</th>\n",
       "      <th>zosert asked</th>\n",
       "      <th>zosert mg</th>\n",
       "      <th>zyrtec tuesday</th>\n",
       "    </tr>\n",
       "  </thead>\n",
       "  <tbody>\n",
       "    <tr>\n",
       "      <th>0</th>\n",
       "      <td>0.0</td>\n",
       "      <td>0.0</td>\n",
       "      <td>0.0</td>\n",
       "      <td>0.0</td>\n",
       "      <td>0.0</td>\n",
       "      <td>0.0</td>\n",
       "      <td>0.0</td>\n",
       "      <td>0.0</td>\n",
       "      <td>0.0</td>\n",
       "      <td>0.0</td>\n",
       "      <td>...</td>\n",
       "      <td>0.0</td>\n",
       "      <td>0.0</td>\n",
       "      <td>0.0</td>\n",
       "      <td>0.0</td>\n",
       "      <td>0.0</td>\n",
       "      <td>0.0</td>\n",
       "      <td>0.0</td>\n",
       "      <td>0.0</td>\n",
       "      <td>0.0</td>\n",
       "      <td>0.0</td>\n",
       "    </tr>\n",
       "    <tr>\n",
       "      <th>1</th>\n",
       "      <td>0.0</td>\n",
       "      <td>0.0</td>\n",
       "      <td>0.0</td>\n",
       "      <td>0.0</td>\n",
       "      <td>0.0</td>\n",
       "      <td>0.0</td>\n",
       "      <td>0.0</td>\n",
       "      <td>0.0</td>\n",
       "      <td>0.0</td>\n",
       "      <td>0.0</td>\n",
       "      <td>...</td>\n",
       "      <td>0.0</td>\n",
       "      <td>0.0</td>\n",
       "      <td>0.0</td>\n",
       "      <td>0.0</td>\n",
       "      <td>0.0</td>\n",
       "      <td>0.0</td>\n",
       "      <td>0.0</td>\n",
       "      <td>0.0</td>\n",
       "      <td>0.0</td>\n",
       "      <td>0.0</td>\n",
       "    </tr>\n",
       "    <tr>\n",
       "      <th>2</th>\n",
       "      <td>0.0</td>\n",
       "      <td>0.0</td>\n",
       "      <td>0.0</td>\n",
       "      <td>0.0</td>\n",
       "      <td>0.0</td>\n",
       "      <td>0.0</td>\n",
       "      <td>0.0</td>\n",
       "      <td>0.0</td>\n",
       "      <td>0.0</td>\n",
       "      <td>0.0</td>\n",
       "      <td>...</td>\n",
       "      <td>0.0</td>\n",
       "      <td>0.0</td>\n",
       "      <td>0.0</td>\n",
       "      <td>0.0</td>\n",
       "      <td>0.0</td>\n",
       "      <td>0.0</td>\n",
       "      <td>0.0</td>\n",
       "      <td>0.0</td>\n",
       "      <td>0.0</td>\n",
       "      <td>0.0</td>\n",
       "    </tr>\n",
       "    <tr>\n",
       "      <th>3</th>\n",
       "      <td>0.0</td>\n",
       "      <td>0.0</td>\n",
       "      <td>0.0</td>\n",
       "      <td>0.0</td>\n",
       "      <td>0.0</td>\n",
       "      <td>0.0</td>\n",
       "      <td>0.0</td>\n",
       "      <td>0.0</td>\n",
       "      <td>0.0</td>\n",
       "      <td>0.0</td>\n",
       "      <td>...</td>\n",
       "      <td>0.0</td>\n",
       "      <td>0.0</td>\n",
       "      <td>0.0</td>\n",
       "      <td>0.0</td>\n",
       "      <td>0.0</td>\n",
       "      <td>0.0</td>\n",
       "      <td>0.0</td>\n",
       "      <td>0.0</td>\n",
       "      <td>0.0</td>\n",
       "      <td>0.0</td>\n",
       "    </tr>\n",
       "    <tr>\n",
       "      <th>4</th>\n",
       "      <td>0.0</td>\n",
       "      <td>0.0</td>\n",
       "      <td>0.0</td>\n",
       "      <td>0.0</td>\n",
       "      <td>0.0</td>\n",
       "      <td>0.0</td>\n",
       "      <td>0.0</td>\n",
       "      <td>0.0</td>\n",
       "      <td>0.0</td>\n",
       "      <td>0.0</td>\n",
       "      <td>...</td>\n",
       "      <td>0.0</td>\n",
       "      <td>0.0</td>\n",
       "      <td>0.0</td>\n",
       "      <td>0.0</td>\n",
       "      <td>0.0</td>\n",
       "      <td>0.0</td>\n",
       "      <td>0.0</td>\n",
       "      <td>0.0</td>\n",
       "      <td>0.0</td>\n",
       "      <td>0.0</td>\n",
       "    </tr>\n",
       "    <tr>\n",
       "      <th>...</th>\n",
       "      <td>...</td>\n",
       "      <td>...</td>\n",
       "      <td>...</td>\n",
       "      <td>...</td>\n",
       "      <td>...</td>\n",
       "      <td>...</td>\n",
       "      <td>...</td>\n",
       "      <td>...</td>\n",
       "      <td>...</td>\n",
       "      <td>...</td>\n",
       "      <td>...</td>\n",
       "      <td>...</td>\n",
       "      <td>...</td>\n",
       "      <td>...</td>\n",
       "      <td>...</td>\n",
       "      <td>...</td>\n",
       "      <td>...</td>\n",
       "      <td>...</td>\n",
       "      <td>...</td>\n",
       "      <td>...</td>\n",
       "      <td>...</td>\n",
       "    </tr>\n",
       "    <tr>\n",
       "      <th>6147</th>\n",
       "      <td>0.0</td>\n",
       "      <td>0.0</td>\n",
       "      <td>0.0</td>\n",
       "      <td>0.0</td>\n",
       "      <td>0.0</td>\n",
       "      <td>0.0</td>\n",
       "      <td>0.0</td>\n",
       "      <td>0.0</td>\n",
       "      <td>0.0</td>\n",
       "      <td>0.0</td>\n",
       "      <td>...</td>\n",
       "      <td>0.0</td>\n",
       "      <td>0.0</td>\n",
       "      <td>0.0</td>\n",
       "      <td>0.0</td>\n",
       "      <td>0.0</td>\n",
       "      <td>0.0</td>\n",
       "      <td>0.0</td>\n",
       "      <td>0.0</td>\n",
       "      <td>0.0</td>\n",
       "      <td>0.0</td>\n",
       "    </tr>\n",
       "    <tr>\n",
       "      <th>6148</th>\n",
       "      <td>0.0</td>\n",
       "      <td>0.0</td>\n",
       "      <td>0.0</td>\n",
       "      <td>0.0</td>\n",
       "      <td>0.0</td>\n",
       "      <td>0.0</td>\n",
       "      <td>0.0</td>\n",
       "      <td>0.0</td>\n",
       "      <td>0.0</td>\n",
       "      <td>0.0</td>\n",
       "      <td>...</td>\n",
       "      <td>0.0</td>\n",
       "      <td>0.0</td>\n",
       "      <td>0.0</td>\n",
       "      <td>0.0</td>\n",
       "      <td>0.0</td>\n",
       "      <td>0.0</td>\n",
       "      <td>0.0</td>\n",
       "      <td>0.0</td>\n",
       "      <td>0.0</td>\n",
       "      <td>0.0</td>\n",
       "    </tr>\n",
       "    <tr>\n",
       "      <th>6149</th>\n",
       "      <td>0.0</td>\n",
       "      <td>0.0</td>\n",
       "      <td>0.0</td>\n",
       "      <td>0.0</td>\n",
       "      <td>0.0</td>\n",
       "      <td>0.0</td>\n",
       "      <td>0.0</td>\n",
       "      <td>0.0</td>\n",
       "      <td>0.0</td>\n",
       "      <td>0.0</td>\n",
       "      <td>...</td>\n",
       "      <td>0.0</td>\n",
       "      <td>0.0</td>\n",
       "      <td>0.0</td>\n",
       "      <td>0.0</td>\n",
       "      <td>0.0</td>\n",
       "      <td>0.0</td>\n",
       "      <td>0.0</td>\n",
       "      <td>0.0</td>\n",
       "      <td>0.0</td>\n",
       "      <td>0.0</td>\n",
       "    </tr>\n",
       "    <tr>\n",
       "      <th>6150</th>\n",
       "      <td>0.0</td>\n",
       "      <td>0.0</td>\n",
       "      <td>0.0</td>\n",
       "      <td>0.0</td>\n",
       "      <td>0.0</td>\n",
       "      <td>0.0</td>\n",
       "      <td>0.0</td>\n",
       "      <td>0.0</td>\n",
       "      <td>0.0</td>\n",
       "      <td>0.0</td>\n",
       "      <td>...</td>\n",
       "      <td>0.0</td>\n",
       "      <td>0.0</td>\n",
       "      <td>0.0</td>\n",
       "      <td>0.0</td>\n",
       "      <td>0.0</td>\n",
       "      <td>0.0</td>\n",
       "      <td>0.0</td>\n",
       "      <td>0.0</td>\n",
       "      <td>0.0</td>\n",
       "      <td>0.0</td>\n",
       "    </tr>\n",
       "    <tr>\n",
       "      <th>6151</th>\n",
       "      <td>0.0</td>\n",
       "      <td>0.0</td>\n",
       "      <td>0.0</td>\n",
       "      <td>0.0</td>\n",
       "      <td>0.0</td>\n",
       "      <td>0.0</td>\n",
       "      <td>0.0</td>\n",
       "      <td>0.0</td>\n",
       "      <td>0.0</td>\n",
       "      <td>0.0</td>\n",
       "      <td>...</td>\n",
       "      <td>0.0</td>\n",
       "      <td>0.0</td>\n",
       "      <td>0.0</td>\n",
       "      <td>0.0</td>\n",
       "      <td>0.0</td>\n",
       "      <td>0.0</td>\n",
       "      <td>0.0</td>\n",
       "      <td>0.0</td>\n",
       "      <td>0.0</td>\n",
       "      <td>0.0</td>\n",
       "    </tr>\n",
       "  </tbody>\n",
       "</table>\n",
       "<p>6152 rows × 249554 columns</p>\n",
       "</div>"
      ],
      "text/plain": [
       "      aa cant  aa meeting  aaa phone  aaa six  aaaa fucking  \\\n",
       "0         0.0         0.0        0.0      0.0           0.0   \n",
       "1         0.0         0.0        0.0      0.0           0.0   \n",
       "2         0.0         0.0        0.0      0.0           0.0   \n",
       "3         0.0         0.0        0.0      0.0           0.0   \n",
       "4         0.0         0.0        0.0      0.0           0.0   \n",
       "...       ...         ...        ...      ...           ...   \n",
       "6147      0.0         0.0        0.0      0.0           0.0   \n",
       "6148      0.0         0.0        0.0      0.0           0.0   \n",
       "6149      0.0         0.0        0.0      0.0           0.0   \n",
       "6150      0.0         0.0        0.0      0.0           0.0   \n",
       "6151      0.0         0.0        0.0      0.0           0.0   \n",
       "\n",
       "      aaaaa aaaaaaaaaaaaaaaaaaaaaaaaaaaaaaaaaaaaaaaaaaaaaaaaaaaaaaaaaaaaaaaaa  \\\n",
       "0                                                   0.0                         \n",
       "1                                                   0.0                         \n",
       "2                                                   0.0                         \n",
       "3                                                   0.0                         \n",
       "4                                                   0.0                         \n",
       "...                                                 ...                         \n",
       "6147                                                0.0                         \n",
       "6148                                                0.0                         \n",
       "6149                                                0.0                         \n",
       "6150                                                0.0                         \n",
       "6151                                                0.0                         \n",
       "\n",
       "      aaaaaaaaaaaaaaaaaaaaaaaaaaaaaaaaaaaaaaaaaaaaaaaaaaaaaaaaaaaaaaaaa want  \\\n",
       "0                                                   0.0                        \n",
       "1                                                   0.0                        \n",
       "2                                                   0.0                        \n",
       "3                                                   0.0                        \n",
       "4                                                   0.0                        \n",
       "...                                                 ...                        \n",
       "6147                                                0.0                        \n",
       "6148                                                0.0                        \n",
       "6149                                                0.0                        \n",
       "6150                                                0.0                        \n",
       "6151                                                0.0                        \n",
       "\n",
       "      aaaahhhaa female  aalis sayang  aampe day  ...  zoom spend  \\\n",
       "0                  0.0           0.0        0.0  ...         0.0   \n",
       "1                  0.0           0.0        0.0  ...         0.0   \n",
       "2                  0.0           0.0        0.0  ...         0.0   \n",
       "3                  0.0           0.0        0.0  ...         0.0   \n",
       "4                  0.0           0.0        0.0  ...         0.0   \n",
       "...                ...           ...        ...  ...         ...   \n",
       "6147               0.0           0.0        0.0  ...         0.0   \n",
       "6148               0.0           0.0        0.0  ...         0.0   \n",
       "6149               0.0           0.0        0.0  ...         0.0   \n",
       "6150               0.0           0.0        0.0  ...         0.0   \n",
       "6151               0.0           0.0        0.0  ...         0.0   \n",
       "\n",
       "      zoom started  zoom talk  zoom teach  zoom therapy  zoom triggered  \\\n",
       "0              0.0        0.0         0.0           0.0             0.0   \n",
       "1              0.0        0.0         0.0           0.0             0.0   \n",
       "2              0.0        0.0         0.0           0.0             0.0   \n",
       "3              0.0        0.0         0.0           0.0             0.0   \n",
       "4              0.0        0.0         0.0           0.0             0.0   \n",
       "...            ...        ...         ...           ...             ...   \n",
       "6147           0.0        0.0         0.0           0.0             0.0   \n",
       "6148           0.0        0.0         0.0           0.0             0.0   \n",
       "6149           0.0        0.0         0.0           0.0             0.0   \n",
       "6150           0.0        0.0         0.0           0.0             0.0   \n",
       "6151           0.0        0.0         0.0           0.0             0.0   \n",
       "\n",
       "      zooming thinking  zosert asked  zosert mg  zyrtec tuesday  \n",
       "0                  0.0           0.0        0.0             0.0  \n",
       "1                  0.0           0.0        0.0             0.0  \n",
       "2                  0.0           0.0        0.0             0.0  \n",
       "3                  0.0           0.0        0.0             0.0  \n",
       "4                  0.0           0.0        0.0             0.0  \n",
       "...                ...           ...        ...             ...  \n",
       "6147               0.0           0.0        0.0             0.0  \n",
       "6148               0.0           0.0        0.0             0.0  \n",
       "6149               0.0           0.0        0.0             0.0  \n",
       "6150               0.0           0.0        0.0             0.0  \n",
       "6151               0.0           0.0        0.0             0.0  \n",
       "\n",
       "[6152 rows x 249554 columns]"
      ]
     },
     "execution_count": 28,
     "metadata": {},
     "output_type": "execute_result"
    }
   ],
   "source": [
    "tfidf_vect = TfidfVectorizer(ngram_range=(2, 2))\n",
    "X_tfidf_2 = tfidf_vect.fit_transform(df_merge['clean_title_selftext'])\n",
    "\n",
    "#take a look at the shape of the df\n",
    "print(X_tfidf_2.shape)\n",
    "\n",
    "X_tfidf_2_df = pd.DataFrame(X_tfidf_2.toarray())\n",
    "X_tfidf_2_df.columns = tfidf_vect.get_feature_names()\n",
    "X_tfidf_2_df"
   ]
  },
  {
   "cell_type": "markdown",
   "id": "4c94817b",
   "metadata": {},
   "source": [
    "## 8. Modelling"
   ]
  },
  {
   "cell_type": "markdown",
   "id": "51411680",
   "metadata": {},
   "source": [
    "We will be using the Naive Bayes, K-Nearest Neighbors and Logistic Regression models and evaulate their performance in predicting if a post belongs to the anxiety or depression subreddit. <br>\n",
    "\n",
    "Our baseline model would be the Naive Bayes - Bernoulli model and we would be comparing the accuracy scores of Naive Bayes - Multinomial, Naive Bayes - Gaussian, K-Nearest Neighbors and Logistic Regression against the accuracy scores of the baseline model and select the model with the highest train and test set accuracy scores for 5-fold cross validation. <br>\n",
    "\n",
    "Accuracy score is an evaluation metric that measures the number of correct predictions made by a model in relation to the total number of predictions made. We calculate it by dividing the number of correct predictions by the total number of predictions."
   ]
  },
  {
   "cell_type": "code",
   "execution_count": 29,
   "id": "816e5d7e",
   "metadata": {},
   "outputs": [],
   "source": [
    "#map subreddit column to 0 or 1\n",
    "\n",
    "subreddit_map = {'Anxiety':0, 'depression':1}\n",
    "\n",
    "df_merge['subreddit_map'] = df_merge['subreddit'].map(subreddit_map)"
   ]
  },
  {
   "cell_type": "code",
   "execution_count": 30,
   "id": "24e8ac59",
   "metadata": {},
   "outputs": [],
   "source": [
    "#define X and y variables\n",
    "\n",
    "X = X_tfidf_1_df\n",
    "y = df_merge['subreddit_map']"
   ]
  },
  {
   "cell_type": "code",
   "execution_count": 31,
   "id": "591a21f8",
   "metadata": {},
   "outputs": [],
   "source": [
    "#train-test split\n",
    "\n",
    "X_train, X_test, y_train, y_test = train_test_split(X, y, random_state=42)"
   ]
  },
  {
   "cell_type": "markdown",
   "id": "e12cc77f",
   "metadata": {},
   "source": [
    "### Baseline Model - Naive Bayes Bernoulli Classifier with TF-IDF vectorization"
   ]
  },
  {
   "cell_type": "code",
   "execution_count": 32,
   "id": "a558b6b3",
   "metadata": {},
   "outputs": [
    {
     "name": "stdout",
     "output_type": "stream",
     "text": [
      "Accuracy Score for train set with Cross Validation: 0.8296477345635637\n",
      "Accuracy Score for test set with Cross Validation: 0.7893671475104699\n"
     ]
    }
   ],
   "source": [
    "#Bernoulli\n",
    "\n",
    "BernNB = BernoulliNB(binarize = 0.1)\n",
    "BernNB.fit(X_train, y_train)\n",
    "\n",
    "print(f'Accuracy Score for train set with Cross Validation: {cross_val_score(BernNB, X_train, y_train, cv=5).mean()}')\n",
    "print(f'Accuracy Score for test set with Cross Validation: {cross_val_score(BernNB, X_test, y_test, cv=5).mean()}')"
   ]
  },
  {
   "cell_type": "markdown",
   "id": "0d9f5939",
   "metadata": {},
   "source": [
    "### Naive Bayes Multinomial Classifier with TF-IDF vectorization"
   ]
  },
  {
   "cell_type": "code",
   "execution_count": 33,
   "id": "013bfa60",
   "metadata": {},
   "outputs": [
    {
     "name": "stdout",
     "output_type": "stream",
     "text": [
      "Accuracy Score for train set with Cross Validation: 0.8530546200614332\n",
      "Accuracy Score for test set with Cross Validation: 0.8036507466474893\n"
     ]
    }
   ],
   "source": [
    "#Multinomial\n",
    "\n",
    "MultiNB = MultinomialNB()\n",
    "MultiNB.fit(X_train, y_train)\n",
    "\n",
    "print(f'Accuracy Score for train set with Cross Validation: {cross_val_score(MultiNB, X_train, y_train, cv=5).mean()}')\n",
    "print(f'Accuracy Score for test set with Cross Validation: {cross_val_score(MultiNB, X_test, y_test, cv=5).mean()}')"
   ]
  },
  {
   "cell_type": "markdown",
   "id": "f84c818c",
   "metadata": {},
   "source": [
    "### Naive Bayes Gaussian Classifier with TF-IDF vectorization"
   ]
  },
  {
   "cell_type": "code",
   "execution_count": 34,
   "id": "145a4765",
   "metadata": {},
   "outputs": [
    {
     "name": "stdout",
     "output_type": "stream",
     "text": [
      "Accuracy Score for train set with Cross Validation: 0.6683992827312617\n",
      "Accuracy Score for test set with Cross Validation: 0.641759380684462\n"
     ]
    }
   ],
   "source": [
    "#Gaussian\n",
    "\n",
    "GausNB = GaussianNB()\n",
    "GausNB.fit(X_train, y_train)\n",
    "\n",
    "print(f'Accuracy Score for train set with Cross Validation: {cross_val_score(GausNB, X_train, y_train, cv=5).mean()}')\n",
    "print(f'Accuracy Score for test set with Cross Validation: {cross_val_score(GausNB, X_test, y_test, cv=5).mean()}')"
   ]
  },
  {
   "cell_type": "markdown",
   "id": "ccf5471f",
   "metadata": {},
   "source": [
    "### K-Nearest Neighbors with TF-IDF vectorization"
   ]
  },
  {
   "cell_type": "code",
   "execution_count": 35,
   "id": "d4073621",
   "metadata": {},
   "outputs": [],
   "source": [
    "# apply scaling to X-variables to bring values to a similar scale for better model performance\n",
    "ss = StandardScaler()\n",
    "X_train_sc = ss.fit_transform(X_train)\n",
    "X_test_sc = ss.transform(X_test)"
   ]
  },
  {
   "cell_type": "code",
   "execution_count": 36,
   "id": "2d5529e8",
   "metadata": {},
   "outputs": [
    {
     "name": "stdout",
     "output_type": "stream",
     "text": [
      "Accuracy Score for train set with Cross Validation: 0.5060685823601714\n",
      "Accuracy Score for test set with Cross Validation: 0.4928296459241085\n"
     ]
    }
   ],
   "source": [
    "#KNN\n",
    "\n",
    "knn = KNeighborsClassifier(n_neighbors=5)\n",
    "knn.fit(X_train, y_train)\n",
    "\n",
    "print(f'Accuracy Score for train set with Cross Validation: {cross_val_score(knn, X_train_sc, y_train, cv=5).mean()}')\n",
    "print(f'Accuracy Score for test set with Cross Validation: {cross_val_score(knn, X_test_sc, y_test, cv=5).mean()}')"
   ]
  },
  {
   "cell_type": "markdown",
   "id": "8c4b5ba4",
   "metadata": {},
   "source": [
    "### Logistic Regression with TF-IDF vectorization"
   ]
  },
  {
   "cell_type": "code",
   "execution_count": 38,
   "id": "32f8d97e",
   "metadata": {},
   "outputs": [
    {
     "name": "stdout",
     "output_type": "stream",
     "text": [
      "Accuracy Score for train set with Cross Validation: 0.8714765818337356\n",
      "Accuracy Score for test set with Cross Validation: 0.8511125682135454\n"
     ]
    }
   ],
   "source": [
    "#LR\n",
    "\n",
    "lr = LogisticRegression()\n",
    "lr.fit(X_train, y_train)\n",
    "\n",
    "print(f'Accuracy Score for train set with Cross Validation: {cross_val_score(lr, X_train, y_train, cv=5).mean()}')\n",
    "print(f'Accuracy Score for test set with Cross Validation: {cross_val_score(lr, X_test, y_test, cv=5).mean()}')"
   ]
  },
  {
   "cell_type": "markdown",
   "id": "5a850f2f",
   "metadata": {},
   "source": [
    "### Hyperparameter Tuning to identify the best set of parmaeters for LR with TF-IDF vectorization"
   ]
  },
  {
   "cell_type": "markdown",
   "id": "60325e66",
   "metadata": {},
   "source": [
    "Since Logistic Regression showed the best accuracy scores, we can apply hyperparameter tuning to identify the best set of parameters for the model."
   ]
  },
  {
   "cell_type": "markdown",
   "id": "2192c26a",
   "metadata": {},
   "source": [
    "#### GridSearch CV"
   ]
  },
  {
   "cell_type": "code",
   "execution_count": 41,
   "id": "7f21faa5",
   "metadata": {},
   "outputs": [
    {
     "name": "stdout",
     "output_type": "stream",
     "text": [
      "Best Parameters: {'C': 1.0, 'class_weight': 'balanced', 'multi_class': 'multinomial', 'penalty': 'l2', 'solver': 'newton-cg'}\n",
      "Best Score: 0.8725607105002785\n"
     ]
    }
   ],
   "source": [
    "#the parameters used in the gridsearch CV are commented below\n",
    "\n",
    "params = {\"solver\":['newton-cg'], #['lbfgs', 'liblinear']\n",
    "          \"penalty\": ['l2'], #['l1', 'elasticnet', 'none']\n",
    "          'C': [1.0], #[100, 10]\n",
    "          \"class_weight\": ['balanced'],\n",
    "          \"multi_class\": ['multinomial'] #['ovr']\n",
    "         }\n",
    "\n",
    "lr = LogisticRegression(max_iter = 1000)\n",
    "model = GridSearchCV(lr, params, cv=5, n_jobs = -1)\n",
    "model.fit(X_train, y_train)\n",
    "\n",
    "print(f'Best Parameters: {model.best_params_}')\n",
    "print(f'Best Score: {model.best_score_}')"
   ]
  },
  {
   "cell_type": "code",
   "execution_count": 42,
   "id": "d0dbff10",
   "metadata": {},
   "outputs": [
    {
     "name": "stdout",
     "output_type": "stream",
     "text": [
      "Accuracy Score for train set with Cross Validation: 0.8725607105002785\n",
      "Accuracy Score for test set with Cross Validation: 0.8491666314141885\n"
     ]
    }
   ],
   "source": [
    "lr = LogisticRegression(class_weight= 'balanced', multi_class= 'multinomial', solver= 'newton-cg')\n",
    "lr.fit(X_train, y_train)\n",
    "\n",
    "print(f'Accuracy Score for train set with Cross Validation: {cross_val_score(lr, X_train, y_train, cv=5).mean()}')\n",
    "print(f'Accuracy Score for test set with Cross Validation: {cross_val_score(lr, X_test, y_test, cv=5).mean()}')"
   ]
  },
  {
   "cell_type": "markdown",
   "id": "8c30909e",
   "metadata": {},
   "source": [
    "Train scores improved marginally with GridSearch CV."
   ]
  },
  {
   "cell_type": "markdown",
   "id": "ff8cbef2",
   "metadata": {},
   "source": [
    "#### Adjustment of Threshold"
   ]
  },
  {
   "cell_type": "code",
   "execution_count": 43,
   "id": "41235a83",
   "metadata": {},
   "outputs": [
    {
     "name": "stdout",
     "output_type": "stream",
     "text": [
      "Threshold: 0.25, Accuracy: 0.8491666314141885\n",
      "Threshold: 0.4, Accuracy: 0.8491666314141885\n",
      "Threshold: 0.5, Accuracy: 0.8491666314141885\n",
      "Threshold: 0.6, Accuracy: 0.8491666314141885\n",
      "Threshold: 0.75, Accuracy: 0.8491666314141885\n"
     ]
    }
   ],
   "source": [
    "#using the parameters from GridSearch CV\n",
    "lr = LogisticRegression(class_weight= 'balanced', multi_class= 'multinomial', solver= 'newton-cg')\n",
    "lr.fit(X_train, y_train)\n",
    "\n",
    "def get_predictions(probabilities, threshold):\n",
    "    return [0 if prob < threshold else 1 for prob in probabilities]\n",
    "\n",
    "threshold_list = [0.25, 0.4, 0.5, 0.6, 0.75]\n",
    "\n",
    "for threshold in threshold_list:\n",
    "    preds = get_predictions(lr.predict_proba(X_test)[:,1], threshold)\n",
    "    acc = cross_val_score(lr, X_test, y_test, cv=5).mean()\n",
    "    print(f'Threshold: {threshold}, Accuracy: {acc}')"
   ]
  },
  {
   "cell_type": "markdown",
   "id": "627b8157",
   "metadata": {},
   "source": [
    "Changing of probability threshold did not seem to affect the accuracy of the predictions."
   ]
  },
  {
   "cell_type": "markdown",
   "id": "781c161b",
   "metadata": {},
   "source": [
    "#### Adjustment of Test Size in train test split"
   ]
  },
  {
   "cell_type": "code",
   "execution_count": 44,
   "id": "9a4b5afd",
   "metadata": {},
   "outputs": [
    {
     "name": "stdout",
     "output_type": "stream",
     "text": [
      "Accuracy Score for train set with Cross Validation: 0.8751794455369343\n",
      "Accuracy Score for test set with Cross Validation: 0.8474036191974823\n"
     ]
    }
   ],
   "source": [
    "#test size = 0.1 in train test split\n",
    "\n",
    "X_train, X_test, y_train, y_test = train_test_split(X, y, random_state=42, test_size = 0.1)\n",
    "\n",
    "lr = LogisticRegression(class_weight= 'balanced', multi_class= 'multinomial', solver= 'newton-cg')\n",
    "lr.fit(X_train, y_train)\n",
    "\n",
    "print(f'Accuracy Score for train set with Cross Validation: {cross_val_score(lr, X_train, y_train, cv=5).mean()}')\n",
    "print(f'Accuracy Score for test set with Cross Validation: {cross_val_score(lr, X_test, y_test, cv=5).mean()}')"
   ]
  },
  {
   "cell_type": "code",
   "execution_count": 45,
   "id": "dc5dac8f",
   "metadata": {},
   "outputs": [
    {
     "name": "stdout",
     "output_type": "stream",
     "text": [
      "Accuracy Score for train set with Cross Validation: 0.8729353003949525\n",
      "Accuracy Score for test set with Cross Validation: 0.8687569056217945\n"
     ]
    }
   ],
   "source": [
    "#test size = 0.4 in train test split\n",
    "\n",
    "X_train, X_test, y_train, y_test = train_test_split(X, y, random_state=42, test_size = 0.4)\n",
    "\n",
    "lr = LogisticRegression(class_weight= 'balanced', multi_class= 'multinomial', solver= 'newton-cg')\n",
    "lr.fit(X_train, y_train)\n",
    "\n",
    "print(f'Accuracy Score for train set with Cross Validation: {cross_val_score(lr, X_train, y_train, cv=5).mean()}')\n",
    "print(f'Accuracy Score for test set with Cross Validation: {cross_val_score(lr, X_test, y_test, cv=5).mean()}')"
   ]
  },
  {
   "cell_type": "markdown",
   "id": "8f9a9b31",
   "metadata": {},
   "source": [
    "Scores are better when applying the best LG parameters and test size of 0.4 in train test split."
   ]
  },
  {
   "cell_type": "markdown",
   "id": "593057a4",
   "metadata": {},
   "source": [
    "We will also take a look at TF-IDF with bigram vectorization for the better performing models i.e. models with accuracy scores of 80% and above for train and/or test set."
   ]
  },
  {
   "cell_type": "markdown",
   "id": "868f5b22",
   "metadata": {},
   "source": [
    "### Naive Bayes - Bernoulli with TF-IDF + bigram vectorization"
   ]
  },
  {
   "cell_type": "code",
   "execution_count": 46,
   "id": "813701bb",
   "metadata": {},
   "outputs": [],
   "source": [
    "#redefine X and y variables\n",
    "X = X_tfidf_2_df\n",
    "y = df_merge['subreddit_map']\n",
    "\n",
    "#train-test split\n",
    "X_train, X_test, y_train, y_test = train_test_split(X, y, random_state=42)"
   ]
  },
  {
   "cell_type": "code",
   "execution_count": 47,
   "id": "e00ae260",
   "metadata": {},
   "outputs": [
    {
     "name": "stdout",
     "output_type": "stream",
     "text": [
      "Accuracy Score for train set with Cross Validation: 0.5682723741078206\n",
      "Accuracy Score for test set with Cross Validation: 0.5195080164135538\n"
     ]
    }
   ],
   "source": [
    "BernNB.fit(X_train, y_train)\n",
    "\n",
    "print(f'Accuracy Score for train set with Cross Validation: {cross_val_score(BernNB, X_train, y_train, cv=5).mean()}')\n",
    "print(f'Accuracy Score for test set with Cross Validation: {cross_val_score(BernNB, X_test, y_test, cv=5).mean()}')"
   ]
  },
  {
   "cell_type": "markdown",
   "id": "dd622fb7",
   "metadata": {},
   "source": [
    "### Naive Bayes - Multinomial with TF-IDF + bigram vectorization"
   ]
  },
  {
   "cell_type": "code",
   "execution_count": 48,
   "id": "78e4e409",
   "metadata": {},
   "outputs": [
    {
     "name": "stdout",
     "output_type": "stream",
     "text": [
      "Accuracy Score for train set with Cross Validation: 0.8112248327273838\n",
      "Accuracy Score for test set with Cross Validation: 0.7035090316849273\n"
     ]
    }
   ],
   "source": [
    "MultiNB.fit(X_train, y_train)\n",
    "\n",
    "print(f'Accuracy Score for train set with Cross Validation: {cross_val_score(MultiNB, X_train, y_train, cv=5).mean()}')\n",
    "print(f'Accuracy Score for test set with Cross Validation: {cross_val_score(MultiNB, X_test, y_test, cv=5).mean()}')"
   ]
  },
  {
   "cell_type": "markdown",
   "id": "d7a89e17",
   "metadata": {},
   "source": [
    "### Logistic Regression with TF-IDF + bigram vectorization"
   ]
  },
  {
   "cell_type": "code",
   "execution_count": 49,
   "id": "6bb7b5d4",
   "metadata": {},
   "outputs": [
    {
     "name": "stdout",
     "output_type": "stream",
     "text": [
      "Accuracy Score for train set with Cross Validation: 0.7932348303067193\n",
      "Accuracy Score for test set with Cross Validation: 0.7711493718008375\n"
     ]
    }
   ],
   "source": [
    "lr.fit(X_train, y_train)\n",
    "\n",
    "print(f'Accuracy Score for train set with Cross Validation: {cross_val_score(lr, X_train, y_train, cv=5).mean()}')\n",
    "print(f'Accuracy Score for test set with Cross Validation: {cross_val_score(lr, X_test, y_test, cv=5).mean()}')"
   ]
  },
  {
   "cell_type": "markdown",
   "id": "f2f01281",
   "metadata": {},
   "source": [
    "Based on the accuracy scores, we can tell that TF-IDF with bigram vectorization would worsen rather than improve the accuracy scores of these models."
   ]
  },
  {
   "cell_type": "markdown",
   "id": "b9c52c01",
   "metadata": {},
   "source": [
    "### Model Analysis"
   ]
  },
  {
   "cell_type": "markdown",
   "id": "f5a403c7",
   "metadata": {},
   "source": [
    "|Model Type|Type of Vectorization|Accuracy of train set with Cross Validation|Accuracy of test set with Cross Validation|\n",
    "|---|---|---|---|\n",
    "|[Baseline] Naive Bayes - Bernoulli|TF-IDF|83%|79%|\n",
    "|Naive Bayes - Multinomial|TF-IDF|85%|80%|\n",
    "|Naive Bayes - Gaussian|TF-IDF|67%|64%|\n",
    "|K-Nearest Neighbors|TF-IDF|51%|49%|\n",
    "|<b>Logistic Regression</b>|<b>TF-IDF</b>|<b>87%</b>|<b>87%</b>|\n",
    "|Naive Bayes - Bernoulli|TF-IDF with bigram|57%|52%|\n",
    "|Naive Bayes - Multinomial|TF-IDF with bigram|81%|70%|\n",
    "|Logistic Regression|TF-IDF with bigram|79%|77%|"
   ]
  },
  {
   "cell_type": "markdown",
   "id": "db6bc0cc",
   "metadata": {},
   "source": [
    "Based on the above models, we will select the Logistic Regression model with TF-IDF vectorization as it has the highest accuracy for both train and test set and better scores than our baseline Naive Bayes - Bernoulli model. We were also able to optimised our LR model based on hyperparameter tuning to obtain the best train and test set accuracy scores."
   ]
  },
  {
   "cell_type": "markdown",
   "id": "d3b29daf",
   "metadata": {},
   "source": [
    "## 9. Model Evaluation"
   ]
  },
  {
   "cell_type": "markdown",
   "id": "19136352",
   "metadata": {},
   "source": [
    "Other than the accuracy scores, we will also take a look at the confusion matrix and ROC curve to evaluate our Logistic Regression model."
   ]
  },
  {
   "cell_type": "code",
   "execution_count": 50,
   "id": "7f328f81",
   "metadata": {},
   "outputs": [],
   "source": [
    "#run LR model on the best set of parameters\n",
    "\n",
    "X = X_tfidf_1_df\n",
    "y = df_merge['subreddit_map']\n",
    "\n",
    "X_train, X_test, y_train, y_test = train_test_split(X, y, random_state=42, test_size = 0.4)\n",
    "\n",
    "lr = LogisticRegression(class_weight= 'balanced', multi_class= 'multinomial', solver= 'newton-cg')\n",
    "lr.fit(X_train, y_train)\n",
    "y_pred = lr.predict(X_test)"
   ]
  },
  {
   "cell_type": "markdown",
   "id": "3c59f5ad",
   "metadata": {},
   "source": [
    "### Classification Report"
   ]
  },
  {
   "cell_type": "code",
   "execution_count": 51,
   "id": "d60ec824",
   "metadata": {},
   "outputs": [
    {
     "name": "stdout",
     "output_type": "stream",
     "text": [
      "              precision    recall  f1-score   support\n",
      "\n",
      "           0       0.91      0.85      0.88      1254\n",
      "           1       0.86      0.91      0.88      1207\n",
      "\n",
      "    accuracy                           0.88      2461\n",
      "   macro avg       0.88      0.88      0.88      2461\n",
      "weighted avg       0.88      0.88      0.88      2461\n",
      "\n"
     ]
    }
   ],
   "source": [
    "print(classification_report(y_test, y_pred))"
   ]
  },
  {
   "cell_type": "markdown",
   "id": "d645a17e",
   "metadata": {},
   "source": [
    "Given precision and recall should be balanced in our project, to minimize both false negatives and false positive, we should look for high f1-score (>80%). In this case, f1-score is same as accuracy at 88% (without K-fold cross validation)."
   ]
  },
  {
   "cell_type": "markdown",
   "id": "7fefa238",
   "metadata": {},
   "source": [
    "### Confusion Matrix"
   ]
  },
  {
   "cell_type": "code",
   "execution_count": 52,
   "id": "1708b362",
   "metadata": {},
   "outputs": [
    {
     "data": {
      "image/png": "[encoded data removed]",
      "text/plain": [
       "<Figure size 576x576 with 2 Axes>"
      ]
     },
     "metadata": {
      "needs_background": "light"
     },
     "output_type": "display_data"
    }
   ],
   "source": [
    "#confusion matrix\n",
    "\n",
    "cm = confusion_matrix(y_test, y_pred)\n",
    "\n",
    "modified_cm = []\n",
    "for index,value in enumerate(cm):\n",
    "    if index == 0:\n",
    "        modified_cm.append(['TN = ' + str(value[0]), 'FP = ' + str(value[1])])\n",
    "    if index == 1:\n",
    "        modified_cm.append(['FN = ' + str(value[0]), 'TP = ' + str(value[1])])  \n",
    "        \n",
    "score = accuracy_score(y_test, y_pred)\n",
    "recall = recall_score(y_test, y_pred)\n",
    "precision = precision_score(y_test, y_pred)\n",
    "f1 = f1_score(y_test, y_pred)\n",
    "\n",
    "plt.figure(figsize=(8,8))\n",
    "sns.heatmap(cm, annot=np.array(modified_cm),\n",
    "            fmt=\"\",\n",
    "            annot_kws={\"size\": 20},\n",
    "            linewidths=.5,\n",
    "            square = True,\n",
    "            cmap = 'Blues',\n",
    "            xticklabels = ['anxiety', 'depression'],\n",
    "            yticklabels = ['anxiety', 'depression'],\n",
    "            );\n",
    "\n",
    "plt.ylabel('Actual label', fontsize = 17);\n",
    "plt.xlabel('Predicted label', fontsize = 17);\n",
    "plt.title('Accuracy: {:.2f}'.format(score)+'\\n'\n",
    "          +'Precision: {:.2f}'.format(precision)+'\\n'\n",
    "          +'Recall: {:.2f}'.format(recall)+'\\n'\n",
    "          +'F1-Score: {:.2f}'.format(f1)+'\\n', size = 15);\n",
    "plt.tick_params(labelsize= 15)"
   ]
  },
  {
   "cell_type": "markdown",
   "id": "9cd4e038",
   "metadata": {},
   "source": [
    "We can see here that the number of false negative (111) is lower than the number of false positives (182). Hence, recall (91%) is slightly higher than precision (86%). The f1-score will be relied upon since we want a balance between both recall and precision. In our project, we want to minimize both false positive and false negative to ensure that we do not delay the support we provide to our subjects facing anxiety or depression related issues. In this case, our f1-score is fairly high at 88% (>80%). "
   ]
  },
  {
   "cell_type": "markdown",
   "id": "76483f8c",
   "metadata": {},
   "source": [
    "### ROC Curve"
   ]
  },
  {
   "cell_type": "code",
   "execution_count": 53,
   "id": "366a640b",
   "metadata": {},
   "outputs": [
    {
     "data": {
      "image/png": "[encoded data removed]",
      "text/plain": [
       "<Figure size 432x288 with 1 Axes>"
      ]
     },
     "metadata": {
      "needs_background": "light"
     },
     "output_type": "display_data"
    }
   ],
   "source": [
    "#ROC\n",
    "\n",
    "plot_roc_curve(lr, X_test, y_test)\n",
    "plt.plot([0, 1], [0, 1], # coordinates, two ends of the x and y axis\n",
    "         label='baseline', linestyle='--') #worst model where AUC = 0.5\n",
    "plt.title('ROC Curve')\n",
    "plt.legend();"
   ]
  },
  {
   "cell_type": "code",
   "execution_count": 54,
   "id": "4856711b",
   "metadata": {},
   "outputs": [
    {
     "data": {
      "text/plain": [
       "0.9494667602198235"
      ]
     },
     "execution_count": 54,
     "metadata": {},
     "output_type": "execute_result"
    }
   ],
   "source": [
    "roc_auc_score(y_test, lr.predict_proba(X_test)[:,1])"
   ]
  },
  {
   "cell_type": "markdown",
   "id": "88ccccdd",
   "metadata": {},
   "source": [
    "AUC for the ROC curve performed well at 0.95 which is close to 1. This means that true positive rate is maximised and false positive rate is minimised."
   ]
  },
  {
   "cell_type": "markdown",
   "id": "9ae04e43",
   "metadata": {},
   "source": [
    "### Logistic Regression Coefficients"
   ]
  },
  {
   "cell_type": "code",
   "execution_count": 56,
   "id": "6c558b84",
   "metadata": {},
   "outputs": [
    {
     "data": {
      "image/png": "[encoded data removed]",
      "text/plain": [
       "<Figure size 1080x432 with 1 Axes>"
      ]
     },
     "metadata": {
      "needs_background": "light"
     },
     "output_type": "display_data"
    }
   ],
   "source": [
    "#coefficients of LR\n",
    "\n",
    "# Create df for storing coefficients and their corresponding variable names\n",
    "coefficient_df = pd.DataFrame()\n",
    "\n",
    "# Storing all the column names of predictors\n",
    "coefficient_df['Column_Name'] = X_train.columns\n",
    "\n",
    "# Store coefficients of predictors (flatten from 2D to 1D array)\n",
    "coefficient_df['Coefficient_Value'] = pd.Series(lr.coef_.flatten())\n",
    "\n",
    "#sort words according to their coefficient value\n",
    "coefficient_df.sort_values(by='Coefficient_Value', ascending = False, inplace = True)\n",
    "\n",
    "# Plot the coefficent values of top 10 words with highest and lowest coefficient values\n",
    "plt.rcParams['figure.figsize'] = (15,6)\n",
    "plt.bar(coefficient_df[\"Column_Name\"].head(10), coefficient_df['Coefficient_Value'].head(10))\n",
    "plt.bar(coefficient_df[\"Column_Name\"].tail(10), coefficient_df['Coefficient_Value'].tail(10))\n",
    "plt.title(\"LR Coefficients\")\n",
    "plt.xlabel(\"Words\")\n",
    "plt.ylabel(\"Coefficient Value\")\n",
    "plt.xticks(rotation=45);"
   ]
  },
  {
   "cell_type": "markdown",
   "id": "7983dd51",
   "metadata": {},
   "source": [
    "We can also use the coefficients of the Logistic Regression model to take a look at the words which have a higher weightage (highest or lowest coefficient value) to determine if the post belongs to the anxiety or depression subreddit. <br>\n",
    "\n",
    "No surprise that 'depression', 'depressed', 'anxious' and 'anxiety' has highest coefficient values. Moreover, these top 10 words with highest or lowest coefficient values are closely related to either anxiety or depression."
   ]
  },
  {
   "cell_type": "markdown",
   "id": "28ceceb8",
   "metadata": {},
   "source": [
    "## 10. Conclusion and Recommendations"
   ]
  },
  {
   "cell_type": "markdown",
   "id": "fc0501ac",
   "metadata": {},
   "source": [
    "The aim of the project was to come up with a model which can predict whether a post from reddit was from the anxiety or depression subreddit and identify words commonly used by both communities by analysing the words from the title and description of these posts.<br>\n",
    "\n",
    "Given that both condition are psychologial conditions which can be fairly closely interlinked, words such are \"feel like\", \"dont know\", \"anyone else\", \"dont want\" and \"mental health\" can be seen repeated in both subreddits.<br>\n",
    "\n",
    "Through our modelling, we identified that the Logistic Regression model using TF-IDF-unigram vectorization performed the best out of all the models with a accuracy of 88% (without K-fold Cross Validation), f1-score of 88% and AUC of 0.95.<br>\n",
    "\n",
    "We believe our model can be implemented into CHAT's webCHAT email platform to accurately identify if the subject was experiencing anxiety or depression and allow for counsellors to provide the necessary support and resources to these youths.\n",
    "\n",
    "Limitations: <br>\n",
    "- Given that the words used by both the anxiety and depression communities may be fairly similar, there might be a limitation at how well our model can make prediction with high accuracies (>95%). Hence, our recommendations as per point 2 below.\n",
    "\n",
    "Recommendations: <br>\n",
    "1. As there are many other pyschological conditions that different subjects may be suffering from, we can perhaps include posts from other subreddits in our studies to improve our model to be able to predict other conditions.\n",
    "2. We can refer to posts from other platforms and forums to improve our model's accuracy with more variation in data sources."
   ]
  }
 ],
 "metadata": {
  "kernelspec": {
   "display_name": "Python 3 (ipykernel)",
   "language": "python",
   "name": "python3"
  },
  "language_info": {
   "codemirror_mode": {
    "name": "ipython",
    "version": 3
   },
   "file_extension": ".py",
   "mimetype": "text/x-python",
   "name": "python",
   "nbconvert_exporter": "python",
   "pygments_lexer": "ipython3",
   "version": "3.9.12"
  }
 },
 "nbformat": 4,
 "nbformat_minor": 5
}
