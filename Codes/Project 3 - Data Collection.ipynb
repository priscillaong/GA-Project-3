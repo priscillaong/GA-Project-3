{
 "cells": [
  {
   "cell_type": "markdown",
   "id": "7230ba90",
   "metadata": {},
   "source": [
    "# Data Collection"
   ]
  },
  {
   "cell_type": "code",
   "execution_count": 1,
   "id": "93b280df",
   "metadata": {},
   "outputs": [],
   "source": [
    "# Import libraries\n",
    "import requests\n",
    "import pandas as pd\n",
    "import time\n",
    "import random\n",
    "\n",
    "# Ignore warnings\n",
    "import warnings\n",
    "warnings.filterwarnings(\"ignore\")"
   ]
  },
  {
   "cell_type": "code",
   "execution_count": 2,
   "id": "f169a1c6",
   "metadata": {},
   "outputs": [],
   "source": [
    "#create function for scrapping n posts within the past 30 days from subreddit and save as a df\n",
    "\n",
    "def scrap(subreddit, n, days = 30):\n",
    "    \n",
    "    # url\n",
    "    base_url = 'https://api.pushshift.io/reddit/search/submission'\n",
    "    full_url = f'{base_url}?subreddit={subreddit}&size=100'\n",
    "    \n",
    "    # create an empty list to store the posts\n",
    "    posts = []\n",
    "    \n",
    "    # to modify url after each iteration\n",
    "    for i in range(1, n+1):\n",
    "        urlmod = '{}&after={}d'.format(full_url, days*i)\n",
    "        res_1 = requests.get(urlmod)\n",
    "        \n",
    "        # to prevent errors from stopping the codes from running\n",
    "        try:\n",
    "            res = requests.get(urlmod)\n",
    "            assert res.status_code == 200\n",
    "        except:\n",
    "            continue\n",
    "        \n",
    "        # converting to json\n",
    "        extracted = res.json()['data']\n",
    "        # constructing a df from dict\n",
    "        df = pd.DataFrame.from_dict(extracted)\n",
    "        # adding the df to post list\n",
    "        posts.append(df)\n",
    "        \n",
    "        # total number of posts scrapped\n",
    "        total_scraped = sum(len(x) for x in posts)\n",
    "        \n",
    "        # to stop if total scrapped > n\n",
    "        if total_scraped > n:\n",
    "            break\n",
    "        \n",
    "        # generate a random sleep duration to imitate a human user\n",
    "        sleep_duration = random.randint(1,9)\n",
    "        time.sleep(sleep_duration)\n",
    "                \n",
    "    # creating a list of features of interest\n",
    "    features_of_interest = ['subreddit', 'title', 'selftext']\n",
    "    \n",
    "    # combine all iterations into 1 df\n",
    "    final_df = pd.concat(posts, sort=False)\n",
    "    # remove all unrequired columns from the datasets\n",
    "    final_df = final_df[features_of_interest]\n",
    "    # dropping any duplicates\n",
    "    final_df.drop_duplicates(inplace=True)\n",
    "    return final_df.reset_index(drop=True)"
   ]
  },
  {
   "cell_type": "code",
   "execution_count": 3,
   "id": "e1094400",
   "metadata": {},
   "outputs": [
    {
     "name": "stdout",
     "output_type": "stream",
     "text": [
      "Retrieved 3079 submissions on 'Anxiety' from Pushshift\n",
      "Retrieved 3073 submissions on 'Depression' from Pushshift\n"
     ]
    }
   ],
   "source": [
    "#apply function on anxiety and depression subreddit\n",
    "\n",
    "anxiety_df = scrap('anxiety', 3000)\n",
    "depression_df = scrap('depression', 3000)\n",
    "\n",
    "#print number of submissions scrapped\n",
    "\n",
    "print(f'Retrieved {len(anxiety_df)} submissions on \\'Anxiety\\' from Pushshift')\n",
    "print((f'Retrieved {len(depression_df)} submissions on \\'Depression\\' from Pushshift'))"
   ]
  },
  {
   "cell_type": "code",
   "execution_count": 8,
   "id": "f24239a6",
   "metadata": {},
   "outputs": [],
   "source": [
    "#save submissions into csv files\n",
    "\n",
    "anxiety_df.to_csv('./Dataset/anxiety.csv', index = False)\n",
    "depression_df.to_csv('./Dataset/depression.csv', index = False)"
   ]
  },
  {
   "cell_type": "code",
   "execution_count": 9,
   "id": "8f1e1893",
   "metadata": {},
   "outputs": [
    {
     "data": {
      "text/html": [
       "<div>\n",
       "<style scoped>\n",
       "    .dataframe tbody tr th:only-of-type {\n",
       "        vertical-align: middle;\n",
       "    }\n",
       "\n",
       "    .dataframe tbody tr th {\n",
       "        vertical-align: top;\n",
       "    }\n",
       "\n",
       "    .dataframe thead th {\n",
       "        text-align: right;\n",
       "    }\n",
       "</style>\n",
       "<table border=\"1\" class=\"dataframe\">\n",
       "  <thead>\n",
       "    <tr style=\"text-align: right;\">\n",
       "      <th></th>\n",
       "      <th>subreddit</th>\n",
       "      <th>title</th>\n",
       "      <th>selftext</th>\n",
       "    </tr>\n",
       "  </thead>\n",
       "  <tbody>\n",
       "    <tr>\n",
       "      <th>0</th>\n",
       "      <td>depression</td>\n",
       "      <td>Does therapy help</td>\n",
       "      <td>Just wondering if therapy even does anything b...</td>\n",
       "    </tr>\n",
       "    <tr>\n",
       "      <th>1</th>\n",
       "      <td>depression</td>\n",
       "      <td>How do I stop the cycle?</td>\n",
       "      <td>I have been super depressed for about 4 years ...</td>\n",
       "    </tr>\n",
       "    <tr>\n",
       "      <th>2</th>\n",
       "      <td>depression</td>\n",
       "      <td>Confused and lost</td>\n",
       "      <td>Is it just me or does anyone else feel more an...</td>\n",
       "    </tr>\n",
       "    <tr>\n",
       "      <th>3</th>\n",
       "      <td>depression</td>\n",
       "      <td>I'm giving up. last therapy appointment today</td>\n",
       "      <td>Its 330 am. Its been 2 years of \"therapy\". 3 y...</td>\n",
       "    </tr>\n",
       "    <tr>\n",
       "      <th>4</th>\n",
       "      <td>depression</td>\n",
       "      <td>negative butterflys</td>\n",
       "      <td>[removed]</td>\n",
       "    </tr>\n",
       "  </tbody>\n",
       "</table>\n",
       "</div>"
      ],
      "text/plain": [
       "    subreddit                                          title  \\\n",
       "0  depression                              Does therapy help   \n",
       "1  depression                       How do I stop the cycle?   \n",
       "2  depression                              Confused and lost   \n",
       "3  depression  I'm giving up. last therapy appointment today   \n",
       "4  depression                            negative butterflys   \n",
       "\n",
       "                                            selftext  \n",
       "0  Just wondering if therapy even does anything b...  \n",
       "1  I have been super depressed for about 4 years ...  \n",
       "2  Is it just me or does anyone else feel more an...  \n",
       "3  Its 330 am. Its been 2 years of \"therapy\". 3 y...  \n",
       "4                                          [removed]  "
      ]
     },
     "execution_count": 9,
     "metadata": {},
     "output_type": "execute_result"
    }
   ],
   "source": [
    "#take a look at the first 5 records of the df\n",
    "\n",
    "depression_df.head()"
   ]
  },
  {
   "cell_type": "code",
   "execution_count": 10,
   "id": "2138bb77",
   "metadata": {},
   "outputs": [
    {
     "data": {
      "text/html": [
       "<div>\n",
       "<style scoped>\n",
       "    .dataframe tbody tr th:only-of-type {\n",
       "        vertical-align: middle;\n",
       "    }\n",
       "\n",
       "    .dataframe tbody tr th {\n",
       "        vertical-align: top;\n",
       "    }\n",
       "\n",
       "    .dataframe thead th {\n",
       "        text-align: right;\n",
       "    }\n",
       "</style>\n",
       "<table border=\"1\" class=\"dataframe\">\n",
       "  <thead>\n",
       "    <tr style=\"text-align: right;\">\n",
       "      <th></th>\n",
       "      <th>subreddit</th>\n",
       "      <th>title</th>\n",
       "      <th>selftext</th>\n",
       "    </tr>\n",
       "  </thead>\n",
       "  <tbody>\n",
       "    <tr>\n",
       "      <th>0</th>\n",
       "      <td>Anxiety</td>\n",
       "      <td>My ex friend said me having anxiety is abusive...</td>\n",
       "      <td>Um hi i’m new to the sub and hoped someone cou...</td>\n",
       "    </tr>\n",
       "    <tr>\n",
       "      <th>1</th>\n",
       "      <td>Anxiety</td>\n",
       "      <td>Just wanted to share</td>\n",
       "      <td>Hey everyone , so my anxiety has been up to\\na...</td>\n",
       "    </tr>\n",
       "    <tr>\n",
       "      <th>2</th>\n",
       "      <td>Anxiety</td>\n",
       "      <td>Anxious about polygraph at work</td>\n",
       "      <td>\\n\\nI managed to get out of my old, toxic jo...</td>\n",
       "    </tr>\n",
       "    <tr>\n",
       "      <th>3</th>\n",
       "      <td>Anxiety</td>\n",
       "      <td>DAE get waves of vertigo even when sitting or ...</td>\n",
       "      <td>Vertigo has been one of my main symptoms of an...</td>\n",
       "    </tr>\n",
       "    <tr>\n",
       "      <th>4</th>\n",
       "      <td>Anxiety</td>\n",
       "      <td>Is there someone that I can talk to right now?</td>\n",
       "      <td>Just really need to talk to someone</td>\n",
       "    </tr>\n",
       "  </tbody>\n",
       "</table>\n",
       "</div>"
      ],
      "text/plain": [
       "  subreddit                                              title  \\\n",
       "0   Anxiety  My ex friend said me having anxiety is abusive...   \n",
       "1   Anxiety                               Just wanted to share   \n",
       "2   Anxiety                    Anxious about polygraph at work   \n",
       "3   Anxiety  DAE get waves of vertigo even when sitting or ...   \n",
       "4   Anxiety     Is there someone that I can talk to right now?   \n",
       "\n",
       "                                            selftext  \n",
       "0  Um hi i’m new to the sub and hoped someone cou...  \n",
       "1  Hey everyone , so my anxiety has been up to\\na...  \n",
       "2    \\n\\nI managed to get out of my old, toxic jo...  \n",
       "3  Vertigo has been one of my main symptoms of an...  \n",
       "4                Just really need to talk to someone  "
      ]
     },
     "execution_count": 10,
     "metadata": {},
     "output_type": "execute_result"
    }
   ],
   "source": [
    "#take a look at the first 5 records of the df\n",
    "\n",
    "anxiety_df.head()"
   ]
  }
 ],
 "metadata": {
  "kernelspec": {
   "display_name": "Python 3 (ipykernel)",
   "language": "python",
   "name": "python3"
  },
  "language_info": {
   "codemirror_mode": {
    "name": "ipython",
    "version": 3
   },
   "file_extension": ".py",
   "mimetype": "text/x-python",
   "name": "python",
   "nbconvert_exporter": "python",
   "pygments_lexer": "ipython3",
   "version": "3.9.12"
  }
 },
 "nbformat": 4,
 "nbformat_minor": 5
}
